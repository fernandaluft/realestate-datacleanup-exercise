{
 "cells": [
  {
   "attachments": {},
   "cell_type": "markdown",
   "id": "c4e52ee5",
   "metadata": {},
   "source": [
    "## The dataset\n",
    "\n",
    "This is a real dataset and it was downloaded using web scraping techniques. The data contains registers from fotocasa which is one of the most popular websites of real estate in Spain. Please, do not do this (web scraping) unless it is for academic purposes.\n",
    "\n",
    "The dataset was downloaded a few years ago by Henry Navarro and In no case were economic returns obtained from it.\n",
    "\n",
    "It contains thousands of data from real homes published on the web www.fotocasa.com. Your goal is to extract as much information as possible with the knowledge you have so far about data science, for example what is the most expensive home in the entire dataset?\n",
    "\n",
    "Let's start with precisely that question... Good luck!\n"
   ]
  },
  {
   "attachments": {},
   "cell_type": "markdown",
   "id": "dd97255d",
   "metadata": {},
   "source": [
    "#### Read the dataset assets/real_estate.csv and try to visualize the table (★☆☆)"
   ]
  },
  {
   "cell_type": "code",
   "execution_count": 39,
   "id": "4b93d9c8",
   "metadata": {},
   "outputs": [
    {
     "data": {
      "text/html": [
       "<div>\n",
       "<style scoped>\n",
       "    .dataframe tbody tr th:only-of-type {\n",
       "        vertical-align: middle;\n",
       "    }\n",
       "\n",
       "    .dataframe tbody tr th {\n",
       "        vertical-align: top;\n",
       "    }\n",
       "\n",
       "    .dataframe thead th {\n",
       "        text-align: right;\n",
       "    }\n",
       "</style>\n",
       "<table border=\"1\" class=\"dataframe\">\n",
       "  <thead>\n",
       "    <tr style=\"text-align: right;\">\n",
       "      <th></th>\n",
       "      <th>Unnamed: 0</th>\n",
       "      <th>id_realEstates</th>\n",
       "      <th>isNew</th>\n",
       "      <th>realEstate_name</th>\n",
       "      <th>phone_realEstate</th>\n",
       "      <th>url_inmueble</th>\n",
       "      <th>rooms</th>\n",
       "      <th>bathrooms</th>\n",
       "      <th>surface</th>\n",
       "      <th>price</th>\n",
       "      <th>...</th>\n",
       "      <th>level4Id</th>\n",
       "      <th>level5Id</th>\n",
       "      <th>level6Id</th>\n",
       "      <th>level7Id</th>\n",
       "      <th>level8Id</th>\n",
       "      <th>accuracy</th>\n",
       "      <th>latitude</th>\n",
       "      <th>longitude</th>\n",
       "      <th>zipCode</th>\n",
       "      <th>customZone</th>\n",
       "    </tr>\n",
       "  </thead>\n",
       "  <tbody>\n",
       "    <tr>\n",
       "      <th>15330</th>\n",
       "      <td>15331</td>\n",
       "      <td>153901377</td>\n",
       "      <td>False</td>\n",
       "      <td>infocasa consulting</td>\n",
       "      <td>911360461.0</td>\n",
       "      <td>https://www.fotocasa.es/es/comprar/vivienda/ma...</td>\n",
       "      <td>2.0</td>\n",
       "      <td>1.0</td>\n",
       "      <td>96.0</td>\n",
       "      <td>259470</td>\n",
       "      <td>...</td>\n",
       "      <td>0</td>\n",
       "      <td>0</td>\n",
       "      <td>0</td>\n",
       "      <td>0</td>\n",
       "      <td>0</td>\n",
       "      <td>0</td>\n",
       "      <td>40,45416</td>\n",
       "      <td>-3,70286</td>\n",
       "      <td>NaN</td>\n",
       "      <td>NaN</td>\n",
       "    </tr>\n",
       "    <tr>\n",
       "      <th>15331</th>\n",
       "      <td>15332</td>\n",
       "      <td>150394373</td>\n",
       "      <td>False</td>\n",
       "      <td>inmobiliaria pulpon</td>\n",
       "      <td>912788039.0</td>\n",
       "      <td>https://www.fotocasa.es/es/comprar/vivienda/ma...</td>\n",
       "      <td>3.0</td>\n",
       "      <td>1.0</td>\n",
       "      <td>150.0</td>\n",
       "      <td>165000</td>\n",
       "      <td>...</td>\n",
       "      <td>0</td>\n",
       "      <td>0</td>\n",
       "      <td>0</td>\n",
       "      <td>0</td>\n",
       "      <td>0</td>\n",
       "      <td>0</td>\n",
       "      <td>40,36652</td>\n",
       "      <td>-3,48951</td>\n",
       "      <td>NaN</td>\n",
       "      <td>NaN</td>\n",
       "    </tr>\n",
       "    <tr>\n",
       "      <th>15332</th>\n",
       "      <td>15333</td>\n",
       "      <td>153901397</td>\n",
       "      <td>False</td>\n",
       "      <td>tecnocasa torrelodones</td>\n",
       "      <td>912780348.0</td>\n",
       "      <td>https://www.fotocasa.es/es/comprar/vivienda/ma...</td>\n",
       "      <td>4.0</td>\n",
       "      <td>2.0</td>\n",
       "      <td>175.0</td>\n",
       "      <td>495000</td>\n",
       "      <td>...</td>\n",
       "      <td>0</td>\n",
       "      <td>0</td>\n",
       "      <td>0</td>\n",
       "      <td>0</td>\n",
       "      <td>0</td>\n",
       "      <td>0</td>\n",
       "      <td>40,57444</td>\n",
       "      <td>-3,92124</td>\n",
       "      <td>NaN</td>\n",
       "      <td>NaN</td>\n",
       "    </tr>\n",
       "    <tr>\n",
       "      <th>15333</th>\n",
       "      <td>15334</td>\n",
       "      <td>152607440</td>\n",
       "      <td>False</td>\n",
       "      <td>inmobiliaria pulpon</td>\n",
       "      <td>912788039.0</td>\n",
       "      <td>https://www.fotocasa.es/es/comprar/vivienda/ma...</td>\n",
       "      <td>3.0</td>\n",
       "      <td>2.0</td>\n",
       "      <td>101.0</td>\n",
       "      <td>195000</td>\n",
       "      <td>...</td>\n",
       "      <td>0</td>\n",
       "      <td>0</td>\n",
       "      <td>0</td>\n",
       "      <td>0</td>\n",
       "      <td>0</td>\n",
       "      <td>0</td>\n",
       "      <td>40,36967</td>\n",
       "      <td>-3,48105</td>\n",
       "      <td>NaN</td>\n",
       "      <td>NaN</td>\n",
       "    </tr>\n",
       "    <tr>\n",
       "      <th>15334</th>\n",
       "      <td>15335</td>\n",
       "      <td>153901356</td>\n",
       "      <td>False</td>\n",
       "      <td>infocasa consulting</td>\n",
       "      <td>911360461.0</td>\n",
       "      <td>https://www.fotocasa.es/es/comprar/vivienda/ma...</td>\n",
       "      <td>3.0</td>\n",
       "      <td>2.0</td>\n",
       "      <td>152.0</td>\n",
       "      <td>765000</td>\n",
       "      <td>...</td>\n",
       "      <td>0</td>\n",
       "      <td>0</td>\n",
       "      <td>0</td>\n",
       "      <td>0</td>\n",
       "      <td>0</td>\n",
       "      <td>0</td>\n",
       "      <td>40,45773</td>\n",
       "      <td>-3,69068</td>\n",
       "      <td>NaN</td>\n",
       "      <td>NaN</td>\n",
       "    </tr>\n",
       "  </tbody>\n",
       "</table>\n",
       "<p>5 rows × 37 columns</p>\n",
       "</div>"
      ],
      "text/plain": [
       "       Unnamed: 0  id_realEstates  isNew         realEstate_name  \\\n",
       "15330       15331       153901377  False     infocasa consulting   \n",
       "15331       15332       150394373  False     inmobiliaria pulpon   \n",
       "15332       15333       153901397  False  tecnocasa torrelodones   \n",
       "15333       15334       152607440  False     inmobiliaria pulpon   \n",
       "15334       15335       153901356  False     infocasa consulting   \n",
       "\n",
       "       phone_realEstate                                       url_inmueble  \\\n",
       "15330       911360461.0  https://www.fotocasa.es/es/comprar/vivienda/ma...   \n",
       "15331       912788039.0  https://www.fotocasa.es/es/comprar/vivienda/ma...   \n",
       "15332       912780348.0  https://www.fotocasa.es/es/comprar/vivienda/ma...   \n",
       "15333       912788039.0  https://www.fotocasa.es/es/comprar/vivienda/ma...   \n",
       "15334       911360461.0  https://www.fotocasa.es/es/comprar/vivienda/ma...   \n",
       "\n",
       "       rooms  bathrooms  surface   price  ... level4Id level5Id level6Id  \\\n",
       "15330    2.0        1.0     96.0  259470  ...        0        0        0   \n",
       "15331    3.0        1.0    150.0  165000  ...        0        0        0   \n",
       "15332    4.0        2.0    175.0  495000  ...        0        0        0   \n",
       "15333    3.0        2.0    101.0  195000  ...        0        0        0   \n",
       "15334    3.0        2.0    152.0  765000  ...        0        0        0   \n",
       "\n",
       "      level7Id level8Id accuracy  latitude longitude zipCode customZone  \n",
       "15330        0        0        0  40,45416  -3,70286     NaN        NaN  \n",
       "15331        0        0        0  40,36652  -3,48951     NaN        NaN  \n",
       "15332        0        0        0  40,57444  -3,92124     NaN        NaN  \n",
       "15333        0        0        0  40,36967  -3,48105     NaN        NaN  \n",
       "15334        0        0        0  40,45773  -3,69068     NaN        NaN  \n",
       "\n",
       "[5 rows x 37 columns]"
      ]
     },
     "execution_count": 39,
     "metadata": {},
     "output_type": "execute_result"
    }
   ],
   "source": [
    "import pandas as pd\n",
    "# this CSV file contains semicolons instead of comas as separator\n",
    "df = pd.read_csv('assets/real_estate.csv', sep=';')\n",
    "df.tail()"
   ]
  },
  {
   "cell_type": "code",
   "execution_count": 40,
   "id": "0bb4634a",
   "metadata": {},
   "outputs": [
    {
     "data": {
      "text/plain": [
       "Index(['Unnamed: 0', 'id_realEstates', 'isNew', 'realEstate_name',\n",
       "       'phone_realEstate', 'url_inmueble', 'rooms', 'bathrooms', 'surface',\n",
       "       'price', 'date', 'description', 'address', 'country', 'level1',\n",
       "       'level2', 'level3', 'level4', 'level5', 'level6', 'level7', 'level8',\n",
       "       'upperLevel', 'countryId', 'level1Id', 'level2Id', 'level3Id',\n",
       "       'level4Id', 'level5Id', 'level6Id', 'level7Id', 'level8Id', 'accuracy',\n",
       "       'latitude', 'longitude', 'zipCode', 'customZone'],\n",
       "      dtype='object')"
      ]
     },
     "execution_count": 40,
     "metadata": {},
     "output_type": "execute_result"
    }
   ],
   "source": [
    "df.columns"
   ]
  },
  {
   "cell_type": "code",
   "execution_count": 41,
   "id": "6b4e0af0",
   "metadata": {},
   "outputs": [
    {
     "data": {
      "text/plain": [
       "(15335, 37)"
      ]
     },
     "execution_count": 41,
     "metadata": {},
     "output_type": "execute_result"
    }
   ],
   "source": [
    "df.shape"
   ]
  },
  {
   "cell_type": "code",
   "execution_count": 42,
   "id": "57dcd39c",
   "metadata": {},
   "outputs": [
    {
     "data": {
      "text/plain": [
       "Unnamed: 0            int64\n",
       "id_realEstates        int64\n",
       "isNew                  bool\n",
       "realEstate_name      object\n",
       "phone_realEstate    float64\n",
       "url_inmueble         object\n",
       "rooms               float64\n",
       "bathrooms           float64\n",
       "surface             float64\n",
       "price                 int64\n",
       "date                 object\n",
       "description          object\n",
       "address              object\n",
       "country              object\n",
       "level1               object\n",
       "level2               object\n",
       "level3               object\n",
       "level4               object\n",
       "level5               object\n",
       "level6               object\n",
       "level7               object\n",
       "level8               object\n",
       "upperLevel           object\n",
       "countryId             int64\n",
       "level1Id              int64\n",
       "level2Id              int64\n",
       "level3Id              int64\n",
       "level4Id              int64\n",
       "level5Id              int64\n",
       "level6Id              int64\n",
       "level7Id              int64\n",
       "level8Id              int64\n",
       "accuracy              int64\n",
       "latitude             object\n",
       "longitude            object\n",
       "zipCode             float64\n",
       "customZone          float64\n",
       "dtype: object"
      ]
     },
     "execution_count": 42,
     "metadata": {},
     "output_type": "execute_result"
    }
   ],
   "source": [
    "df.dtypes"
   ]
  },
  {
   "attachments": {},
   "cell_type": "markdown",
   "id": "40631cd6",
   "metadata": {},
   "source": [
    "#### What is the most expensive home in the dataset? (★☆☆)"
   ]
  },
  {
   "cell_type": "code",
   "execution_count": 43,
   "id": "8a758bcf",
   "metadata": {},
   "outputs": [],
   "source": [
    "maxprice = df.price.idxmax()\n"
   ]
  },
  {
   "cell_type": "code",
   "execution_count": 44,
   "id": "f43cbfef",
   "metadata": {},
   "outputs": [
    {
     "name": "stdout",
     "output_type": "stream",
     "text": [
      "The most expensive house in the dataset is on index 13110 announced by engel volkers torrelodones and it costs 8500000.\n"
     ]
    }
   ],
   "source": [
    "print(\"The most expensive house in the dataset is on index \" + str(maxprice) + \" announced by \" + str(df.loc[maxprice, 'realEstate_name']) + \" and it costs \" + str(df.loc[maxprice, 'price']) + \".\")"
   ]
  },
  {
   "attachments": {},
   "cell_type": "markdown",
   "id": "0a708990",
   "metadata": {},
   "source": [
    "#### What is cheapest home in the dataset? (★☆☆)"
   ]
  },
  {
   "cell_type": "code",
   "execution_count": 45,
   "id": "477e01f4",
   "metadata": {},
   "outputs": [
    {
     "data": {
      "text/plain": [
       "0"
      ]
     },
     "execution_count": 45,
     "metadata": {},
     "output_type": "execute_result"
    }
   ],
   "source": [
    "minprice = df.price.min()\n",
    "minprice"
   ]
  },
  {
   "cell_type": "code",
   "execution_count": 46,
   "id": "171cd651",
   "metadata": {},
   "outputs": [],
   "source": [
    "# Dropped prices 0\n",
    "df = df[df['price'] != 0]"
   ]
  },
  {
   "cell_type": "code",
   "execution_count": 47,
   "id": "1273493f",
   "metadata": {},
   "outputs": [],
   "source": [
    "min_price = df.price.min()"
   ]
  },
  {
   "cell_type": "code",
   "execution_count": 48,
   "id": "822b1dd1",
   "metadata": {},
   "outputs": [
    {
     "name": "stdout",
     "output_type": "stream",
     "text": [
      "The cheapest house in the dataset costs 600 euros.\n"
     ]
    }
   ],
   "source": [
    "print(\"The cheapest house in the dataset costs \" + str(min_price) + \" euros.\")"
   ]
  },
  {
   "attachments": {},
   "cell_type": "markdown",
   "id": "0b16cd77",
   "metadata": {},
   "source": [
    "#### What is the biggest and the smallest home in the dataset? (★☆☆)"
   ]
  },
  {
   "cell_type": "code",
   "execution_count": 49,
   "id": "4d9b5975",
   "metadata": {},
   "outputs": [
    {
     "name": "stdout",
     "output_type": "stream",
     "text": [
      "The smallest house in the dataset is on index 498 announced by toledo21 and it has 15.0 square meters.\n"
     ]
    }
   ],
   "source": [
    "minsize = df.surface.idxmin()\n",
    "print(\"The smallest house in the dataset is on index \" + str(minsize) + \" announced by \" + str(df.loc[minsize, 'realEstate_name']) + \" and it has \" + str(df.loc[minsize, 'surface']) + \" square meters.\")"
   ]
  },
  {
   "cell_type": "code",
   "execution_count": 50,
   "id": "62946a20",
   "metadata": {},
   "outputs": [
    {
     "name": "stdout",
     "output_type": "stream",
     "text": [
      "The biggest house in the dataset is on index 6794 announced by habitarium inmobiliaria and it has 249000.0 square meters.\n"
     ]
    }
   ],
   "source": [
    "maxsize = df.surface.idxmax()\n",
    "print(\"The biggest house in the dataset is on index \" + str(maxsize) + \" announced by \" + str(df.loc[maxsize, 'realEstate_name']) + \" and it has \" + str(df.loc[maxsize, 'surface']) + \" square meters.\")"
   ]
  },
  {
   "attachments": {},
   "cell_type": "markdown",
   "id": "782d4c77",
   "metadata": {},
   "source": [
    "#### How many populations (level5) the dataset contains? (★☆☆)"
   ]
  },
  {
   "cell_type": "code",
   "execution_count": 51,
   "id": "5dbe1a08",
   "metadata": {},
   "outputs": [
    {
     "name": "stdout",
     "output_type": "stream",
     "text": [
      "The dataset contains 168 populations level5.\n"
     ]
    }
   ],
   "source": [
    "level5 = df['level5'].value_counts()\n",
    "print(f\"The dataset contains {level5.shape[0]} populations level5.\")"
   ]
  },
  {
   "attachments": {},
   "cell_type": "markdown",
   "id": "48d48f01",
   "metadata": {},
   "source": [
    "#### Does the dataset contain NAs? (★☆☆)\n"
   ]
  },
  {
   "cell_type": "code",
   "execution_count": 52,
   "id": "3ed233e7",
   "metadata": {},
   "outputs": [
    {
     "data": {
      "text/html": [
       "<div>\n",
       "<style scoped>\n",
       "    .dataframe tbody tr th:only-of-type {\n",
       "        vertical-align: middle;\n",
       "    }\n",
       "\n",
       "    .dataframe tbody tr th {\n",
       "        vertical-align: top;\n",
       "    }\n",
       "\n",
       "    .dataframe thead th {\n",
       "        text-align: right;\n",
       "    }\n",
       "</style>\n",
       "<table border=\"1\" class=\"dataframe\">\n",
       "  <thead>\n",
       "    <tr style=\"text-align: right;\">\n",
       "      <th></th>\n",
       "      <th>Unnamed: 0</th>\n",
       "      <th>id_realEstates</th>\n",
       "      <th>isNew</th>\n",
       "      <th>realEstate_name</th>\n",
       "      <th>phone_realEstate</th>\n",
       "      <th>url_inmueble</th>\n",
       "      <th>rooms</th>\n",
       "      <th>bathrooms</th>\n",
       "      <th>surface</th>\n",
       "      <th>price</th>\n",
       "      <th>...</th>\n",
       "      <th>level4Id</th>\n",
       "      <th>level5Id</th>\n",
       "      <th>level6Id</th>\n",
       "      <th>level7Id</th>\n",
       "      <th>level8Id</th>\n",
       "      <th>accuracy</th>\n",
       "      <th>latitude</th>\n",
       "      <th>longitude</th>\n",
       "      <th>zipCode</th>\n",
       "      <th>customZone</th>\n",
       "    </tr>\n",
       "  </thead>\n",
       "  <tbody>\n",
       "    <tr>\n",
       "      <th>0</th>\n",
       "      <td>False</td>\n",
       "      <td>False</td>\n",
       "      <td>False</td>\n",
       "      <td>False</td>\n",
       "      <td>False</td>\n",
       "      <td>False</td>\n",
       "      <td>False</td>\n",
       "      <td>False</td>\n",
       "      <td>False</td>\n",
       "      <td>False</td>\n",
       "      <td>...</td>\n",
       "      <td>False</td>\n",
       "      <td>False</td>\n",
       "      <td>False</td>\n",
       "      <td>False</td>\n",
       "      <td>False</td>\n",
       "      <td>False</td>\n",
       "      <td>False</td>\n",
       "      <td>False</td>\n",
       "      <td>True</td>\n",
       "      <td>True</td>\n",
       "    </tr>\n",
       "    <tr>\n",
       "      <th>1</th>\n",
       "      <td>False</td>\n",
       "      <td>False</td>\n",
       "      <td>False</td>\n",
       "      <td>False</td>\n",
       "      <td>False</td>\n",
       "      <td>False</td>\n",
       "      <td>False</td>\n",
       "      <td>False</td>\n",
       "      <td>True</td>\n",
       "      <td>False</td>\n",
       "      <td>...</td>\n",
       "      <td>False</td>\n",
       "      <td>False</td>\n",
       "      <td>False</td>\n",
       "      <td>False</td>\n",
       "      <td>False</td>\n",
       "      <td>False</td>\n",
       "      <td>False</td>\n",
       "      <td>False</td>\n",
       "      <td>True</td>\n",
       "      <td>True</td>\n",
       "    </tr>\n",
       "    <tr>\n",
       "      <th>2</th>\n",
       "      <td>False</td>\n",
       "      <td>False</td>\n",
       "      <td>False</td>\n",
       "      <td>False</td>\n",
       "      <td>False</td>\n",
       "      <td>False</td>\n",
       "      <td>False</td>\n",
       "      <td>False</td>\n",
       "      <td>False</td>\n",
       "      <td>False</td>\n",
       "      <td>...</td>\n",
       "      <td>False</td>\n",
       "      <td>False</td>\n",
       "      <td>False</td>\n",
       "      <td>False</td>\n",
       "      <td>False</td>\n",
       "      <td>False</td>\n",
       "      <td>False</td>\n",
       "      <td>False</td>\n",
       "      <td>True</td>\n",
       "      <td>True</td>\n",
       "    </tr>\n",
       "    <tr>\n",
       "      <th>3</th>\n",
       "      <td>False</td>\n",
       "      <td>False</td>\n",
       "      <td>False</td>\n",
       "      <td>False</td>\n",
       "      <td>False</td>\n",
       "      <td>False</td>\n",
       "      <td>False</td>\n",
       "      <td>False</td>\n",
       "      <td>False</td>\n",
       "      <td>False</td>\n",
       "      <td>...</td>\n",
       "      <td>False</td>\n",
       "      <td>False</td>\n",
       "      <td>False</td>\n",
       "      <td>False</td>\n",
       "      <td>False</td>\n",
       "      <td>False</td>\n",
       "      <td>False</td>\n",
       "      <td>False</td>\n",
       "      <td>True</td>\n",
       "      <td>True</td>\n",
       "    </tr>\n",
       "    <tr>\n",
       "      <th>4</th>\n",
       "      <td>False</td>\n",
       "      <td>False</td>\n",
       "      <td>False</td>\n",
       "      <td>False</td>\n",
       "      <td>False</td>\n",
       "      <td>False</td>\n",
       "      <td>False</td>\n",
       "      <td>False</td>\n",
       "      <td>False</td>\n",
       "      <td>False</td>\n",
       "      <td>...</td>\n",
       "      <td>False</td>\n",
       "      <td>False</td>\n",
       "      <td>False</td>\n",
       "      <td>False</td>\n",
       "      <td>False</td>\n",
       "      <td>False</td>\n",
       "      <td>False</td>\n",
       "      <td>False</td>\n",
       "      <td>True</td>\n",
       "      <td>True</td>\n",
       "    </tr>\n",
       "    <tr>\n",
       "      <th>...</th>\n",
       "      <td>...</td>\n",
       "      <td>...</td>\n",
       "      <td>...</td>\n",
       "      <td>...</td>\n",
       "      <td>...</td>\n",
       "      <td>...</td>\n",
       "      <td>...</td>\n",
       "      <td>...</td>\n",
       "      <td>...</td>\n",
       "      <td>...</td>\n",
       "      <td>...</td>\n",
       "      <td>...</td>\n",
       "      <td>...</td>\n",
       "      <td>...</td>\n",
       "      <td>...</td>\n",
       "      <td>...</td>\n",
       "      <td>...</td>\n",
       "      <td>...</td>\n",
       "      <td>...</td>\n",
       "      <td>...</td>\n",
       "      <td>...</td>\n",
       "    </tr>\n",
       "    <tr>\n",
       "      <th>15330</th>\n",
       "      <td>False</td>\n",
       "      <td>False</td>\n",
       "      <td>False</td>\n",
       "      <td>False</td>\n",
       "      <td>False</td>\n",
       "      <td>False</td>\n",
       "      <td>False</td>\n",
       "      <td>False</td>\n",
       "      <td>False</td>\n",
       "      <td>False</td>\n",
       "      <td>...</td>\n",
       "      <td>False</td>\n",
       "      <td>False</td>\n",
       "      <td>False</td>\n",
       "      <td>False</td>\n",
       "      <td>False</td>\n",
       "      <td>False</td>\n",
       "      <td>False</td>\n",
       "      <td>False</td>\n",
       "      <td>True</td>\n",
       "      <td>True</td>\n",
       "    </tr>\n",
       "    <tr>\n",
       "      <th>15331</th>\n",
       "      <td>False</td>\n",
       "      <td>False</td>\n",
       "      <td>False</td>\n",
       "      <td>False</td>\n",
       "      <td>False</td>\n",
       "      <td>False</td>\n",
       "      <td>False</td>\n",
       "      <td>False</td>\n",
       "      <td>False</td>\n",
       "      <td>False</td>\n",
       "      <td>...</td>\n",
       "      <td>False</td>\n",
       "      <td>False</td>\n",
       "      <td>False</td>\n",
       "      <td>False</td>\n",
       "      <td>False</td>\n",
       "      <td>False</td>\n",
       "      <td>False</td>\n",
       "      <td>False</td>\n",
       "      <td>True</td>\n",
       "      <td>True</td>\n",
       "    </tr>\n",
       "    <tr>\n",
       "      <th>15332</th>\n",
       "      <td>False</td>\n",
       "      <td>False</td>\n",
       "      <td>False</td>\n",
       "      <td>False</td>\n",
       "      <td>False</td>\n",
       "      <td>False</td>\n",
       "      <td>False</td>\n",
       "      <td>False</td>\n",
       "      <td>False</td>\n",
       "      <td>False</td>\n",
       "      <td>...</td>\n",
       "      <td>False</td>\n",
       "      <td>False</td>\n",
       "      <td>False</td>\n",
       "      <td>False</td>\n",
       "      <td>False</td>\n",
       "      <td>False</td>\n",
       "      <td>False</td>\n",
       "      <td>False</td>\n",
       "      <td>True</td>\n",
       "      <td>True</td>\n",
       "    </tr>\n",
       "    <tr>\n",
       "      <th>15333</th>\n",
       "      <td>False</td>\n",
       "      <td>False</td>\n",
       "      <td>False</td>\n",
       "      <td>False</td>\n",
       "      <td>False</td>\n",
       "      <td>False</td>\n",
       "      <td>False</td>\n",
       "      <td>False</td>\n",
       "      <td>False</td>\n",
       "      <td>False</td>\n",
       "      <td>...</td>\n",
       "      <td>False</td>\n",
       "      <td>False</td>\n",
       "      <td>False</td>\n",
       "      <td>False</td>\n",
       "      <td>False</td>\n",
       "      <td>False</td>\n",
       "      <td>False</td>\n",
       "      <td>False</td>\n",
       "      <td>True</td>\n",
       "      <td>True</td>\n",
       "    </tr>\n",
       "    <tr>\n",
       "      <th>15334</th>\n",
       "      <td>False</td>\n",
       "      <td>False</td>\n",
       "      <td>False</td>\n",
       "      <td>False</td>\n",
       "      <td>False</td>\n",
       "      <td>False</td>\n",
       "      <td>False</td>\n",
       "      <td>False</td>\n",
       "      <td>False</td>\n",
       "      <td>False</td>\n",
       "      <td>...</td>\n",
       "      <td>False</td>\n",
       "      <td>False</td>\n",
       "      <td>False</td>\n",
       "      <td>False</td>\n",
       "      <td>False</td>\n",
       "      <td>False</td>\n",
       "      <td>False</td>\n",
       "      <td>False</td>\n",
       "      <td>True</td>\n",
       "      <td>True</td>\n",
       "    </tr>\n",
       "  </tbody>\n",
       "</table>\n",
       "<p>15275 rows × 37 columns</p>\n",
       "</div>"
      ],
      "text/plain": [
       "       Unnamed: 0  id_realEstates  isNew  realEstate_name  phone_realEstate  \\\n",
       "0           False           False  False            False             False   \n",
       "1           False           False  False            False             False   \n",
       "2           False           False  False            False             False   \n",
       "3           False           False  False            False             False   \n",
       "4           False           False  False            False             False   \n",
       "...           ...             ...    ...              ...               ...   \n",
       "15330       False           False  False            False             False   \n",
       "15331       False           False  False            False             False   \n",
       "15332       False           False  False            False             False   \n",
       "15333       False           False  False            False             False   \n",
       "15334       False           False  False            False             False   \n",
       "\n",
       "       url_inmueble  rooms  bathrooms  surface  price  ...  level4Id  \\\n",
       "0             False  False      False    False  False  ...     False   \n",
       "1             False  False      False     True  False  ...     False   \n",
       "2             False  False      False    False  False  ...     False   \n",
       "3             False  False      False    False  False  ...     False   \n",
       "4             False  False      False    False  False  ...     False   \n",
       "...             ...    ...        ...      ...    ...  ...       ...   \n",
       "15330         False  False      False    False  False  ...     False   \n",
       "15331         False  False      False    False  False  ...     False   \n",
       "15332         False  False      False    False  False  ...     False   \n",
       "15333         False  False      False    False  False  ...     False   \n",
       "15334         False  False      False    False  False  ...     False   \n",
       "\n",
       "       level5Id  level6Id  level7Id  level8Id  accuracy  latitude  longitude  \\\n",
       "0         False     False     False     False     False     False      False   \n",
       "1         False     False     False     False     False     False      False   \n",
       "2         False     False     False     False     False     False      False   \n",
       "3         False     False     False     False     False     False      False   \n",
       "4         False     False     False     False     False     False      False   \n",
       "...         ...       ...       ...       ...       ...       ...        ...   \n",
       "15330     False     False     False     False     False     False      False   \n",
       "15331     False     False     False     False     False     False      False   \n",
       "15332     False     False     False     False     False     False      False   \n",
       "15333     False     False     False     False     False     False      False   \n",
       "15334     False     False     False     False     False     False      False   \n",
       "\n",
       "       zipCode  customZone  \n",
       "0         True        True  \n",
       "1         True        True  \n",
       "2         True        True  \n",
       "3         True        True  \n",
       "4         True        True  \n",
       "...        ...         ...  \n",
       "15330     True        True  \n",
       "15331     True        True  \n",
       "15332     True        True  \n",
       "15333     True        True  \n",
       "15334     True        True  \n",
       "\n",
       "[15275 rows x 37 columns]"
      ]
     },
     "execution_count": 52,
     "metadata": {},
     "output_type": "execute_result"
    }
   ],
   "source": [
    "df.isna()"
   ]
  },
  {
   "attachments": {},
   "cell_type": "markdown",
   "id": "4fa39382",
   "metadata": {},
   "source": [
    "#### Delete the NAs of the dataset, if applicable (★★☆)"
   ]
  },
  {
   "cell_type": "code",
   "execution_count": 53,
   "id": "c97757ec",
   "metadata": {},
   "outputs": [],
   "source": [
    "#The NAs and 0s were deleted from the price column to answer the question about the cheapest house of the dataset. Before that, the minimum price was 0, which doesn't make sense."
   ]
  },
  {
   "attachments": {},
   "cell_type": "markdown",
   "id": "0e5f76de",
   "metadata": {},
   "source": [
    "#### What is the mean of prices in the population (level5) of \"Arroyomolinos (Madrid)\"? (★★☆)"
   ]
  },
  {
   "cell_type": "code",
   "execution_count": 54,
   "id": "327f7adb",
   "metadata": {},
   "outputs": [
    {
     "name": "stdout",
     "output_type": "stream",
     "text": [
      "The mean price of houses in Arroyomolinos (Madrid) is 298905.18\n"
     ]
    }
   ],
   "source": [
    "mean_price_arroyomolinos = round((df.query('level5 == \"Arroyomolinos (Madrid)\"').price.mean()), 2)\n",
    "print(f\"The mean price of houses in Arroyomolinos (Madrid) is {mean_price_arroyomolinos}\")\n"
   ]
  },
  {
   "attachments": {},
   "cell_type": "markdown",
   "id": "89b548e3",
   "metadata": {},
   "source": [
    "#### Plot the histogram of prices for the population (level5) of \"Arroyomolinos (Madrid)\" and explain what you observe (★★☆)"
   ]
  },
  {
   "cell_type": "code",
   "execution_count": 55,
   "id": "4594a6be",
   "metadata": {},
   "outputs": [],
   "source": [
    "import matplotlib.pyplot as plt"
   ]
  },
  {
   "cell_type": "code",
   "execution_count": 56,
   "id": "2ba51bf7",
   "metadata": {},
   "outputs": [
    {
     "data": {
      "image/png": "[encoded data removed]",
      "text/plain": [
       "<Figure size 800x400 with 1 Axes>"
      ]
     },
     "metadata": {},
     "output_type": "display_data"
    }
   ],
   "source": [
    "df_am = df.query('level5 == \"Arroyomolinos (Madrid)\"')\n",
    "fig = plt.figure(figsize=(8,4))\n",
    "n, bins, patches = plt.hist(df_am.price)\n",
    "plt.grid(color='white', lw = 0.5, axis='x')\n",
    "plt.title('Histogram of Prices for the Population (level5) Arroyomolinos (Madrid)', loc='center', fontsize=12)\n",
    "plt.xticks(bins, fontsize=8)\n",
    "plt.yticks(fontsize=8)\n",
    "plt.xlabel('\\nPrices in EUR', fontsize=10)\n",
    "plt.ylabel('Number of Houses\\n', fontsize=10)\n",
    "plt.show()"
   ]
  },
  {
   "cell_type": "code",
   "execution_count": 57,
   "id": "519fc0d9",
   "metadata": {},
   "outputs": [
    {
     "data": {
      "text/plain": [
       "(135, 37)"
      ]
     },
     "execution_count": 57,
     "metadata": {},
     "output_type": "execute_result"
    }
   ],
   "source": [
    "df_am.shape"
   ]
  },
  {
   "cell_type": "code",
   "execution_count": 58,
   "id": "b443a3dc",
   "metadata": {},
   "outputs": [],
   "source": [
    "# Most houses in Arroyomolinos (Madrid) cost between 248270 and 289737 EUR or 331203 and 372669 EUR."
   ]
  },
  {
   "attachments": {},
   "cell_type": "markdown",
   "id": "c86dc493",
   "metadata": {},
   "source": [
    "#### Now let's work with the \"south belt\" of madrid. Make a subsetting that contains the following populations (level5): \"Fuenlabrada\",\"Leganés\",\"Getafe\",\"Alcorcón\" (★★☆) "
   ]
  },
  {
   "cell_type": "code",
   "execution_count": 59,
   "id": "5280d0cb",
   "metadata": {},
   "outputs": [],
   "source": [
    "df_south_belt = df.query('level5 == \"Fuenlabrada\" or level5 == \"Leganés\" or level5 == \"Getafe\" or level5 == \"Alcorcón\"')\n",
    "df_sb = df_south_belt.copy()"
   ]
  },
  {
   "attachments": {},
   "cell_type": "markdown",
   "id": "090a6a3e",
   "metadata": {},
   "source": [
    "#### Make a bar plot of the median of prices (★★★) "
   ]
  },
  {
   "cell_type": "code",
   "execution_count": 60,
   "id": "68aec11c",
   "metadata": {},
   "outputs": [
    {
     "data": {
      "image/png": "[encoded data removed]",
      "text/plain": [
       "<Figure size 640x480 with 1 Axes>"
      ]
     },
     "metadata": {},
     "output_type": "display_data"
    }
   ],
   "source": [
    "df_sb.groupby(['level5'])['price'].median().plot(kind='bar', \n",
    "                                                 title = 'Median of prices in populations (level5)', \n",
    "                                                 xlabel='\\nPopulations', \n",
    "                                                 ylabel='Median of Prices\\n',\n",
    "                                                 rot=0,\n",
    "                                                 color='maroon'\n",
    "                                                );"
   ]
  },
  {
   "attachments": {},
   "cell_type": "markdown",
   "id": "18f67373",
   "metadata": {},
   "source": [
    "#### Calculate the sample mean and variance of the variables: price, rooms, surface area and bathrooms (★★★) "
   ]
  },
  {
   "cell_type": "code",
   "execution_count": 61,
   "id": "8d068061",
   "metadata": {},
   "outputs": [
    {
     "name": "stdout",
     "output_type": "stream",
     "text": [
      "The means are: \n",
      "price = 226085.69 \n",
      "rooms = 3.02 \n",
      "bathrooms = 1.63 \n",
      "surface = 111.3\n",
      "\n",
      "The variances are: \n",
      "price = 14444627877.73 \n",
      "rooms = 0.72 \n",
      "bathrooms = 0.58 \n",
      "surface = 4275.92\n"
     ]
    }
   ],
   "source": [
    "mean_price = round(df_sb.price.mean(), 2)\n",
    "mean_rooms = round(df_sb.rooms.mean(), 2)\n",
    "mean_bathrooms = round(df_sb.bathrooms.mean(), 2)\n",
    "mean_surface = round(df_sb.surface.mean(), 2)\n",
    "\n",
    "var_price = round(df_sb.price.var(), 2)\n",
    "var_rooms = round(df_sb.rooms.var(), 2)\n",
    "var_bathrooms = round(df_sb.bathrooms.var(), 2)\n",
    "var_surface = round(df_sb.surface.var(), 2)\n",
    "\n",
    "print(f\"The means are: \\nprice = {mean_price} \\nrooms = {mean_rooms} \\nbathrooms = {mean_bathrooms} \\nsurface = {mean_surface}\")\n",
    "print()\n",
    "print(f\"The variances are: \\nprice = {var_price} \\nrooms = {var_rooms} \\nbathrooms = {var_bathrooms} \\nsurface = {var_surface}\")"
   ]
  },
  {
   "attachments": {},
   "cell_type": "markdown",
   "id": "95cfde61",
   "metadata": {},
   "source": [
    "#### What is the most expensive home of each population? (★★☆) "
   ]
  },
  {
   "cell_type": "code",
   "execution_count": 62,
   "id": "1c29f78c",
   "metadata": {},
   "outputs": [
    {
     "data": {
      "text/plain": [
       "level5\n",
       "Alcorcón        950000\n",
       "Fuenlabrada     490000\n",
       "Getafe         1050000\n",
       "Leganés         650000\n",
       "Name: price, dtype: int64"
      ]
     },
     "execution_count": 62,
     "metadata": {},
     "output_type": "execute_result"
    }
   ],
   "source": [
    "most_exp_sb = df_sb.groupby(['level5'])['price'].max()\n",
    "most_exp_sb"
   ]
  },
  {
   "attachments": {},
   "cell_type": "markdown",
   "id": "ea67579b",
   "metadata": {},
   "source": [
    "#### Normalize the variable of prices for each population and plot the 4 histograms in the same plot (★★★) "
   ]
  },
  {
   "cell_type": "code",
   "execution_count": 63,
   "id": "385ad99c",
   "metadata": {},
   "outputs": [],
   "source": [
    "#Z-Score\n",
    "df_sb['price_normalised'] = ((df_sb['price'] - df_sb['price'].mean()) / df_sb['price'].std())"
   ]
  },
  {
   "cell_type": "code",
   "execution_count": 64,
   "id": "5b290d8e",
   "metadata": {},
   "outputs": [
    {
     "data": {
      "image/png": "[encoded data removed]",
      "text/plain": [
       "<Figure size 1000x600 with 4 Axes>"
      ]
     },
     "metadata": {},
     "output_type": "display_data"
    }
   ],
   "source": [
    "import matplotlib.pyplot as plt\n",
    "\n",
    "fig, ax = plt.subplots(2, 2, sharex=True, figsize=(10,6))\n",
    "\n",
    "alcorcon = df_sb[(df_sb['level5'] == \"Alcorcón\")]\n",
    "fuenlabrada = df_sb[(df_sb['level5'] == \"Fuenlabrada\")]\n",
    "getafe = df_sb[(df_sb['level5'] == \"Getafe\")]\n",
    "leganes = df_sb[(df_sb['level5'] == \"Leganés\")]\n",
    "\n",
    "\n",
    "ax[0,0].hist(alcorcon['price_normalised'], color='darkred')\n",
    "ax[0,1].hist(fuenlabrada['price_normalised'], color='darkcyan')\n",
    "ax[1,0].hist(getafe['price_normalised'], color='slategray')\n",
    "ax[1,1].hist(leganes['price_normalised'], color='darkblue')\n",
    "\n",
    "ax[0,0].set_title('Alcorcón')\n",
    "ax[0,1].set_title('Fuenlabrada')\n",
    "ax[1,0].set_title('Getafe')\n",
    "ax[1,1].set_title('Leganés')\n",
    "\n",
    "\n",
    "fig.suptitle('Histogram of normalised prices for each population (level5)', fontsize=14);"
   ]
  },
  {
   "attachments": {},
   "cell_type": "markdown",
   "id": "2ec1bd5c",
   "metadata": {},
   "source": [
    "#### Make a plot of the coordinates (lat and long) of the south belt of Madrid by color of each population (★★★★) \n",
    "This is a extremely hard exercise and we highly recommend to do it at the end of everything"
   ]
  },
  {
   "cell_type": "code",
   "execution_count": 65,
   "id": "312aac99",
   "metadata": {},
   "outputs": [
    {
     "data": {
      "application/vnd.jupyter.widget-view+json": {
       "model_id": "f9b66736ae3d4018b76acd49e8cdbc50",
       "version_major": 2,
       "version_minor": 0
      },
      "text/plain": [
       "Map(center=[60, -2.2], controls=(ZoomControl(options=['position', 'zoom_in_text', 'zoom_in_title', 'zoom_out_t…"
      ]
     },
     "execution_count": 65,
     "metadata": {},
     "output_type": "execute_result"
    }
   ],
   "source": [
    "# Run in console the following command before run the rest of code:\n",
    "# jupyter nbextension enable --py --sys-prefix ipyleaflet\n",
    "\n",
    "from ipyleaflet import Map, basemaps, Marker, AwesomeIcon\n",
    "\n",
    "# Map centred on (60 degrees latitude et -2.2 degrees longitude)\n",
    "# Latitude, longitude\n",
    "map = Map(center = (60, -2.2), zoom = 2, min_zoom = 1, max_zoom = 20, \n",
    "    basemap=basemaps.Stamen.Terrain)\n",
    "map"
   ]
  },
  {
   "cell_type": "code",
   "execution_count": 66,
   "id": "271f03c8",
   "metadata": {},
   "outputs": [
    {
     "name": "stdout",
     "output_type": "stream",
     "text": [
      "[40.28674, 40.2853785786438, 40.35059, 40.31933, 40.3313411, 40.2744807718156, 40.31111, 40.356919, 40.3274, 40.2906814213562, 40.3152529585, 40.2921796, 40.3060558, 40.3035689, 40.29224, 40.3068987, 40.3142811864376, 40.31381, 40.32124, 40.35524, 40.28327, 40.29742, 40.3034957864376, 40.30779, 40.33686, 40.30184, 40.30091, 40.33252, 40.30635, 40.3220051387, 40.3153084, 40.3133562, 40.3012757864376, 40.3218, 40.27782, 40.3164257864376, 40.3262, 40.3216444213562, 40.30353, 40.3117642135624, 40.31313, 40.3099157864376, 40.3526, 40.2919082135624, 40.31381, 40.3342649, 40.3155378864376, 40.28869, 40.3546326213562, 40.34949, 40.34608, 40.2889244, 40.3341242135624, 40.3446968786438, 40.33238, 40.2837261, 40.2823585, 40.3324438, 40.2830905213562, 40.34942, 40.3525293490715, 40.30005, 40.3014614213562, 40.296075, 40.2772542, 40.3453965786438, 40.296075, 40.2772542, 40.3453965786438, 40.2915427786438, 40.33829, 40.3061746135624, 40.34179, 40.3541132, 40.32124, 40.3159134, 40.3494952, 40.344788, 40.28293, 40.30206, 40.34368, 40.3314905686438, 40.29338, 40.31667, 40.3205313786438, 40.3470842135624, 40.3205154213562, 40.2871968, 40.3442916870117, 40.3119888305664, 40.343175, 40.32947, 40.3300714213562, 40.343375, 40.30206, 40.3300714213562, 40.343375, 40.30206, 40.3175029, 40.31072, 40.31072, 0.0, 40.343175, 40.3489999, 40.3321035, 40.34368, 40.3467875, 40.3298114213562, 40.3300714213562, 40.32635, 40.3207914213562, 40.33163199, 40.32635, 40.34438, 40.31667, 40.30566, 40.34855, 40.2890264864376, 40.309815, 40.30785, 40.308054, 40.309815, 40.30785, 40.308054, 40.347495990297, 40.345881470732, 40.334217, 40.3074935, 40.3128454, 0.0, 0.0, 40.2833037, 40.288330005557, 40.34362, 40.288095391725, 40.28651, 40.2877, 40.34559, 40.29987, 40.27609356, 40.2945890127654, 40.2945890127654, 40.28181, 40.29287, 40.33655, 40.302820239187, 40.33621, 40.2758248, 40.309481, 40.309481, 40.32953, 40.27862, 40.2888528, 40.2971995999033, 40.2929608592128, 40.2925435170825, 40.2892496970814, 40.2925973931475, 40.2907380864376, 40.27512, 40.2862494, 40.2738157864376, 40.30871, 40.3151, 40.33422, 40.32873, 40.31093, 40.30011, 40.2919796, 40.2804758, 40.33603, 40.3469313664376, 40.3470069724376, 40.34444980446, 40.34307648046, 40.3485743497314, 40.2897, 40.2752542, 40.3204492, 40.3388, 40.3360541, 40.29052, 40.288113, 40.286028, 40.33757, 40.3447687130376, 40.3392951184, 40.35064, 40.3375861704, 40.3464199, 40.3430768, 40.35131, 40.28404, 40.34454, 40.34645, 40.30958, 40.31622, 40.31622, 40.31622, 40.31622, 40.31622, 40.31622, 40.31622, 40.31622, 40.31622, 40.31622, 40.31622, 40.31622, 40.31622, 40.31622, 40.31622, 40.31622, 40.31622, 40.31622, 40.31622, 40.31622, 40.31622, 40.31622, 40.31622, 40.31622, 40.31622, 40.31622, 40.31622, 40.31622, 40.31622, 40.34879, 40.35331, 40.2808183, 40.32793, 40.334721, 40.34913, 40.333254, 40.34438, 40.34368, 40.32635, 40.29338, 40.30546, 40.34775, 40.33143199, 40.30206, 40.34368, 40.3120728, 40.32049, 40.31072, 40.31667, 40.31667, 40.28344, 40.2942943, 40.29053, 40.31295, 40.28615, 40.27927, 40.2842, 40.30754, 40.30299, 40.28867, 40.2842, 40.29131, 40.32115, 40.2876117, 40.29192, 40.28029, 40.34749, 40.3362852, 40.34257, 40.3513, 40.33854, 40.3478556971546, 40.3076893328, 40.3179637337, 40.3322342135624, 40.32131, 40.3299051, 40.33727, 40.3238357864376, 40.32246, 40.33475, 40.35512, 40.32359, 40.31468, 40.3164, 40.30201, 40.32188, 40.33457, 40.33423, 40.33238, 40.33138, 40.33423, 40.33251, 40.3432624, 40.30733, 40.34323, 40.35541, 40.33731, 40.30809, 40.35679, 40.35679, 40.31376, 40.35022, 40.32739, 40.3291, 40.2836, 40.2804640280991, 40.2802348570363, 40.283340877313, 40.2835163436148, 40.2852437046111, 40.2933624864376, 40.27908, 40.28479, 40.3116, 40.29269, 40.3459851, 40.3226783, 40.3122542135624, 40.34484, 40.34851, 40.34879, 40.34749, 40.3535169, 40.34841, 40.3139235, 40.31195, 40.3071, 40.31594, 40.34288, 40.34218, 40.3498685786438, 40.354, 40.3326157, 40.3079548245211, 40.3234, 40.3230964, 40.32828, 40.34348, 40.33244, 40.35314, 40.358816, 40.33727, 40.33745, 40.3309657864376, 40.3136954, 40.33595, 40.27748, 40.3148063472576, 40.32489, 40.3358557864376, 40.30011, 40.30234, 40.28449, 40.3318, 40.3366733113739, 40.29849, 40.3364895, 40.29387, 40.29338, 40.29338, 40.33011, 40.343363079834, 40.30206, 40.3466873, 40.32635, 40.33011, 40.343363079834, 40.30206, 40.3466873, 40.32635, 40.29931, 40.29202, 40.35022, 40.34797, 40.2808882, 40.31667, 40.3161134, 40.34438, 40.34737, 40.3354997, 40.30186, 40.31072, 40.3193033445857, 40.30546, 40.32635, 40.34368, 40.3161134, 40.341175, 40.31004, 40.3461, 40.34368, 40.33727, 40.2756121, 40.2887913864376, 40.2887738, 40.2896797, 40.287018416, 40.28775, 40.2800385786438, 40.32489, 40.3326157, 40.33527, 40.32321, 40.32404566, 40.31143337, 40.3329, 40.3323, 40.3578021841515, 40.3323, 40.3578021841515, 40.2834965, 40.2819117, 40.335, 40.31381, 40.32635, 40.32635, 40.32635, 40.31111, 40.32446, 40.31111, 40.32446, 40.33329, 40.31296, 40.3161134, 40.34368, 40.31667, 40.30546, 40.3345834, 40.2836586, 40.31072, 40.34438, 40.34368, 40.32936015, 40.29338, 40.32275, 40.343452, 40.30206, 40.31667, 40.27726, 40.2933296, 40.28186, 40.34396, 40.307803, 40.308843, 40.30607, 40.29867, 40.313970835286, 40.2859916687012, 40.3519318, 40.3086311, 40.356133, 40.2889421, 40.32635, 40.341175, 40.29338, 40.3225429, 40.34438, 40.29338, 40.3225429, 40.34438, 40.29338, 40.3225429, 40.34438, 40.28062, 40.31043, 40.32635, 40.30206, 40.3335821864376, 40.3465199864376, 40.283133, 40.34368, 40.30206, 40.31667, 40.31667, 40.31072, 40.3344698, 40.34028, 40.29212, 40.3337657864376, 40.3337657864376, 40.2866, 40.30973, 40.28532, 40.34536, 40.32303, 40.28494845, 40.29905, 40.28805, 40.3186747864376, 40.28805, 40.3186747864376, 40.333266378437, 40.33829, 40.29095, 40.281955297, 40.29305, 40.27635, 40.3506246, 40.3599654864376, 40.2853, 40.35541, 40.2744157864376, 40.289733, 40.2889722135624, 40.2913667864376, 40.286478, 40.291526, 40.30485, 40.32429, 40.2990857864376, 40.30049, 40.28382, 40.2820357864376, 40.27817, 40.28069, 40.34888169, 40.34120434, 40.345947283775, 40.3143312, 40.3054397, 40.310909, 40.3103782, 40.3432, 40.34269, 40.34695, 40.34304, 0.0, 40.2985657864376, 40.2756414, 40.29321, 40.31896, 40.31321, 40.31368, 40.2814139, 40.3509298371, 40.3430341495, 40.28364, 40.350753, 40.34102, 40.2829107, 40.31896, 40.31321, 40.31368, 40.31896, 40.31321, 40.31368, 40.2814139, 40.3509298371, 40.3430341495, 40.28364, 40.350753, 40.34102, 40.2829107, 40.3284118326652, 40.3284118326652, 40.31259, 40.32635, 40.34368, 40.34368, 40.3427357864376, 40.32635, 40.31072, 40.31572, 40.33609706, 40.32936015, 40.34438, 40.31667, 40.30546, 40.31667, 40.30206, 40.30186, 40.29338, 40.2889244, 40.32455, 40.336755744937, 40.31719, 40.34639, 40.282, 40.28871, 40.282, 40.28871, 40.29338, 40.3551815490723, 40.30206, 40.31667, 40.31667, 40.34438, 40.29217, 40.32635, 40.32635, 40.3079, 40.30546, 40.30186, 40.299029, 40.2829, 40.3423636291504, 40.33746, 0.0, 40.278420269286, 40.279938262758, 40.3139, 40.34768, 40.35499, 40.35427, 40.34327, 40.2824903, 40.3448916, 40.3271904, 40.35109, 40.35042, 40.3144, 40.30186, 40.34438, 40.31667, 40.30186, 40.34438, 40.31667, 40.30186, 40.34438, 40.31667, 40.32546, 40.341978, 40.2970296, 40.2825819, 40.28698, 40.283219, 40.2923318, 40.2820833864376, 40.2832782, 40.2764598939, 40.31151, 40.31033, 40.31767, 40.300709, 40.300251, 40.35634535, 40.3438274, 40.35741, 40.32343, 40.2877367, 40.29011, 40.29335, 40.29337, 40.290905192578, 40.286776166148, 40.28893, 40.3318, 40.33595, 40.33527, 40.31917, 40.33562, 40.3457876, 40.3187663, 40.3280798, 40.3280798, 40.3148063472576, 40.32828, 40.30606, 40.33441, 40.2891349826874, 40.2833081169234, 40.339, 40.2896842, 40.28286, 40.33726, 40.2764028, 40.317586, 40.328601, 0.0, 40.320355, 40.319574, 40.319444, 40.315913, 40.29072, 40.34252, 40.33008, 40.33218, 40.33671, 40.3285125, 40.28624, 40.3574064, 40.3028614213562, 40.343705210773, 40.3425103, 40.34783, 40.34645, 40.3062504, 40.2926049, 40.3300242041513, 40.35069, 40.34795, 40.282445, 40.31229, 40.3201063, 40.35541, 40.30186, 40.34449, 40.3376, 40.3218194, 40.29405, 40.33806, 40.287, 40.33385, 40.31845, 40.3080504, 40.31667, 40.30027, 40.31667, 40.30546, 40.2840309143066, 40.34739, 40.31498, 40.30186, 40.34438, 40.331329, 40.3104154, 40.3121231, 40.2887913864376, 40.3310724737636, 40.3086963, 40.335, 40.35145, 40.32458, 40.32672, 40.28676, 40.2896842, 40.33898, 40.33443, 40.29931, 40.2982677986069, 40.35478, 40.29011, 40.3539345, 40.28684, 40.2941899, 40.2922401, 40.34461, 40.2928257, 40.35466, 40.32739, 40.3127899, 40.30855, 40.27927, 40.28529, 40.33727, 40.3241157864376, 40.3278234, 40.3335821864376, 40.28286, 40.3434837, 40.28265, 40.3170797, 40.2807, 40.34702, 40.34009, 40.35306, 40.34639, 40.34576, 40.29058, 40.28687, 40.2875, 40.3424, 40.30023, 40.28709, 40.29274, 40.30428, 40.2934187, 40.28162, 40.2841067, 40.29674, 40.28037, 40.3303391, 40.32901, 40.29371, 40.29387, 40.3359653, 40.3234, 40.30507, 40.34538, 40.3402489, 40.2851691, 40.3376, 40.34314, 40.34314, 40.34603, 40.33425, 40.323754187848, 40.34067, 40.3313044150488, 40.3319065585014, 40.33158, 40.32134, 40.33189, 40.33595, 40.31667, 40.3543087740551, 40.32176, 40.3308835864376, 40.3101, 40.30333, 40.3308835864376, 40.3101, 40.30333, 40.31667, 40.32831978, 40.30186, 40.33163, 40.32811, 40.277956, 40.30546, 40.3194273, 40.30186, 40.310835, 40.310835, 40.29, 40.31407, 40.3208104, 40.32845, 40.33643, 40.30569, 40.32845, 40.33643, 40.31569687, 40.34519, 40.3010733, 40.33546, 40.3473615287, 40.3416428, 40.28245, 40.28728, 40.2946, 40.2965, 40.2913667864376, 40.27563, 40.29019, 40.3139, 40.3139, 40.350214341, 40.28486, 40.30262, 40.33595, 40.32746, 40.35472, 40.35223, 40.34635, 0.0, 0.0, 0.0, 0.0, 0.0, 40.2820453965836, 40.2865158, 40.28315, 40.2830697, 40.33383, 40.28084, 40.3337657864376, 40.3337657864376, 40.33746, 40.33132, 40.31361, 40.28682, 40.28661, 40.3210413, 40.33551964, 40.3366, 40.33177, 40.31672, 40.34372, 40.34484, 40.2831823, 40.28818, 40.33422, 40.2843, 40.28086, 40.2744744, 40.31428, 40.30546, 40.30206, 40.3571804504395, 40.2748257864376, 40.32314, 40.31667, 40.295285090629, 40.30186, 40.31667, 40.35382, 40.35541, 40.3522, 40.344393, 40.3337657864376, 40.32124, 40.31381, 40.31381, 40.3259051, 40.2882193, 40.28282, 40.28062]\n",
      "[-3.79351, -3.79508142135624, -3.82693, -3.77574, -3.8313868, -3.79192471504211, -3.73066, -3.77769, -3.77152, -3.80405242135624, -3.8365174323, -3.815865, -3.7346649, -3.7381336, -3.83833, -3.725108, -3.79168641356237, -3.83733, -3.7798, -3.78003, -3.74772, -3.80916, -3.72721421356237, -3.73801, -3.75523, -3.72799, -3.73093, -3.77006, -3.72887, -3.7130324135, -3.7324561, -3.8360052, -3.72873421356237, -3.71263, -3.80908, -3.77228421356237, -3.73377, -3.78003122135624, -3.73817, -3.71427578643763, -3.71922, -3.72196421356237, -3.81587, -3.82411851356237, -3.83733, -3.7708315, -3.78935761356239, -3.74767, -3.80197422135624, -3.83127, -3.82316, -3.7985458, -3.77088421356237, -3.82185872135624, -3.77167, -3.7907629, -3.8061052, -3.7692378, -3.80549367864376, -3.82489, -3.81249633026123, -3.73323, -3.73946142135624, -3.80790299999994, -3.7907283, -3.82416582135624, -3.80790299999994, -3.7907283, -3.82416582135624, -3.79755132135624, -3.82919, -3.73762418643763, -3.77388, -3.8009789, -3.7798, -3.7272536, -3.8193922, -3.7414642, -3.80959, -3.73321, -3.8455, -3.82336329135624, -3.82598, -3.74072, -3.75509212135624, -3.81097578643763, -3.75540942135624, -3.7917573, -3.82681002807617, -3.72591996192932, -3.781201, -3.72937, -3.73209857864376, -3.781001, -3.73321, -3.73209857864376, -3.781001, -3.73321, -3.7229835, -3.73017, -3.73017, 0.0, -3.780801, -3.82822, -3.7549885, -3.8455, -3.8301848, -3.72922857864376, -3.73209857864376, -3.72974, -3.75518142135624, -3.82342187, -3.72974, -3.82546, -3.74072, -3.75295, -3.81162, -3.81057698643763, -3.715394, -3.72048, -3.721986, -3.715394, -3.72048, -3.721986, -3.8217114947359, -3.8105465372741, -3.761382, -3.78635829999996, -3.78585959999998, 0.0, 0.0, -3.78627316, -3.7994911074191, -3.82534, -3.8000407415556, -3.78329, -3.80104, -3.82172, -3.80874, -3.80152655, -3.79703164100647, -3.79703164100647, -3.78804, -3.79943, -3.77874, -3.7281704612835, -3.75287, -3.7999498, -3.730291, -3.730291, -3.75011, -3.78728, -3.8221908, -3.83405685424805, -3.8392174243927, -3.83121371269226, -3.81259381771088, -3.78414431610143, -3.79345111356237, -3.80061, -3.8054465, -3.80253421356237, -3.74713, -3.72027, -3.76264, -3.75612, -3.71703, -3.7337, -3.813865, -3.7886023, -3.74315, -3.83183956356237, -3.82310920943763, -3.816518944703, -3.8272440218029, -3.82804765150163, -3.80039, -3.7905283, -3.7550433, -3.74981, -3.74927409999998, -3.79275, -3.800844, -3.804853, -3.83304, -3.83498738426237, -3.8344010008, -3.8228, -3.8333786122, -3.8294138, -3.8414216, -3.83347, -3.80752, -3.82844, -3.83122, -3.73939, -3.73848, -3.73848, -3.73848, -3.73848, -3.73848, -3.73848, -3.73848, -3.73848, -3.73848, -3.73848, -3.73848, -3.73848, -3.73848, -3.73848, -3.73848, -3.73848, -3.73848, -3.73848, -3.73848, -3.73848, -3.73848, -3.73848, -3.73848, -3.73848, -3.73848, -3.73848, -3.73848, -3.73848, -3.73848, -3.83085, -3.79921, -3.8083335, -3.73224, -3.751087, -3.82771, -3.7565717, -3.82546, -3.8455, -3.72974, -3.82598, -3.75275, -3.82853, -3.82322187, -3.73321, -3.8455, -3.7315907, -3.77969, -3.73017, -3.74072, -3.74072, -3.75483, -3.7890764, -3.79219, -3.72903, -3.78487, -3.78859, -3.75367, -3.72977, -3.73191, -3.80108, -3.78608, -3.79696, -3.75589, -3.7883313, -3.7951, -3.80809, -3.84128, -3.7388189, -3.84485, -3.82849, -3.85619, -3.82424283527373, -3.7335333825, -3.7241576949, -3.77201421356237, -3.75912, -3.76318, -3.7454, -3.76423421356237, -3.7837, -3.7507, -3.77858, -3.76952, -3.73029, -3.72351, -3.73096, -3.7137, -3.83658, -3.74847, -3.75385, -3.74716, -3.74847, -3.76091, -3.780075, -3.73803, -3.82894, -3.82059, -3.7748487, -3.73853, -3.77956, -3.77956, -3.7209, -3.82184, -3.76408, -3.75182, -3.79472, -3.78879725933075, -3.80658030509949, -3.80265355110168, -3.79826013677064, -3.79868388175964, -3.81011881356237, -3.80925, -3.79011, -3.72493, -3.80311, -3.744779, -3.7312807, -3.72538421356237, -3.83016, -3.82673, -3.82935, -3.82339, -3.8664683, -3.82877, -3.7211553, -3.72177, -3.7259, -3.72034, -3.83289, -3.82431, -3.80460857864376, -3.80057, -3.7526299, -3.73173594474792, -3.77152, -3.7819198, -3.76646, -3.77794, -3.74343, -3.7852, -3.7806746, -3.7454, -3.74144, -3.77108421356237, -3.7902722, -3.75278, -3.81045, -3.7859058380127, -3.77267, -3.75089421356237, -3.73112, -3.73357, -3.75385, -3.75931, -3.74195404234641, -3.80975, -3.7405455, -3.78821, -3.82598, -3.82598, -3.76489, -3.84367609024048, -3.73321, -3.8291539, -3.72974, -3.76489, -3.84367609024048, -3.73321, -3.8291539, -3.72974, -3.73958, -3.80383, -3.82184, -3.83064, -3.8040432, -3.74072, -3.7272536, -3.82546, -3.82447, -3.8557201, -3.73321, -3.73017, -3.77997059253031, -3.75275, -3.72974, -3.8455, -3.7272536, -3.781001, -3.7284, -3.8216869, -3.8455, -3.7454, -3.7910649, -3.80213348643763, -3.7436436, -3.7973998, -3.8204841445, -3.81949, -3.78851142135624, -3.77267, -3.7526299, -3.74948, -3.77126, -3.77137011, -3.71537812, -3.75306, -3.768598, -3.77895983765465, -3.768598, -3.77895983765465, -3.7943644, -3.7857094, -3.76732, -3.83733, -3.72974, -3.72974, -3.72974, -3.72456, -3.71776, -3.72456, -3.71776, -3.75607, -3.72078, -3.7272536, -3.8455, -3.74072, -3.75275, -3.7420251, -3.8072866, -3.73017, -3.82546, -3.8455, -3.82449841, -3.82598, -3.76969, -3.8255215, -3.73321, -3.74072, -3.80709, -3.8096706, -3.79819, -3.82553, -3.714596, -3.715955, -3.7348, -3.74804, -3.7178172600122, -3.80190992355347, -3.8184971, -3.7223487, -3.781143, -3.80338000000006, -3.72974, -3.781001, -3.82598, -3.732149, -3.82546, -3.82598, -3.732149, -3.82546, -3.82598, -3.732149, -3.82546, -3.79869, -3.72942, -3.72974, -3.73321, -3.76873891356237, -3.83168351356237, -3.790236, -3.8455, -3.73321, -3.74072, -3.74072, -3.73017, -3.7556483, -3.81981, -3.83108, -3.76824421356237, -3.76824421356237, -3.79446, -3.71763, -3.79494, -3.74371, -3.76101, -3.8060085535, -3.80776, -3.79415, -3.72381678643763, -3.79415, -3.72381678643763, -3.8308672118658, -3.74589, -3.78316, -3.794286131, -3.83638, -3.80027, -3.83166800000004, -3.77977721356237, -3.79436, -3.82059, -3.80027421356237, -3.797771, -3.80187621356237, -3.80326778643763, -3.807777, -3.80371, -3.73806, -3.73639, -3.73202421356237, -3.83739, -3.80151, -3.80247578643763, -3.80604, -3.8052, -3.8273082, -3.81590858, -3.8258840503082, -3.7894115, -3.73865030000002, -3.7303591, -3.7295262, -3.8293, -3.8282, -3.82855, -3.8322, 0.0, -3.73475421356237, -3.7977828, -3.78655, -3.72461, -3.72212, -3.72077, -3.8065813, -3.8148375712, -3.8269158555, -3.75503, -3.8294167, -3.82785, -3.8025311, -3.72461, -3.72212, -3.72077, -3.72461, -3.72212, -3.72077, -3.8065813, -3.8148375712, -3.8269158555, -3.75503, -3.8294167, -3.82785, -3.8025311, -3.76477807760239, -3.76477807760239, -3.72246, -3.72974, -3.8455, -3.8455, -3.82791578643763, -3.72974, -3.73017, -3.72119, -3.76855838, -3.82449841, -3.82546, -3.74072, -3.75275, -3.74072, -3.73321, -3.73321, -3.82598, -3.7985458, -3.77172, -3.8547774793093, -3.77119, -3.8213, -3.80813, -3.75019, -3.80813, -3.75019, -3.82598, -3.77932000160217, -3.73321, -3.74072, -3.74072, -3.82546, -3.79556, -3.72974, -3.72974, -3.72964, -3.75275, -3.73321, -3.810943, -3.80855, -3.74814414978027, -3.85598, 0.0, -3.8088987103865, -3.8098724025355, -3.71888, -3.82749, -3.81911, -3.80184, -3.82435, -3.807421, -3.8233388, -3.7654675, -3.82622, -3.81984, -3.73279, -3.73321, -3.82546, -3.74072, -3.73321, -3.82546, -3.74072, -3.73321, -3.82546, -3.74072, -3.73121, -3.8435586, -3.8104846, -3.8070057, -3.7914644, -3.7918147, -3.8386229, -3.80207588643763, -3.7864969, -3.7862125907, -3.71706, -3.71785, -3.72494, -3.733316, -3.731819, -3.7765983, -3.8245606, -3.77827, -3.76604, -3.798948, -3.78833, -3.78428, -3.78961, -3.7964129778185, -3.7965785676235, -3.78419, -3.75931, -3.75278, -3.74948, -3.75643, -3.75553, -3.74066417, -3.71462710000003, -3.8372555, -3.8372555, -3.7859058380127, -3.76646, -3.73466, -3.75434, -3.80264944605351, -3.75334990326103, -3.75199, -3.7974099, -3.81475, -3.85598, -3.8004914, -3.755019, -3.763826, 0.0, -3.777929, -3.755102, -3.753672, -3.756759, -3.8043, -3.8256, -3.76646, -3.74921, -3.83373, -3.7624825, -3.795, -3.7782684, -3.73534857864376, -3.8246052988763, -3.81683384, -3.80671, -3.82717, -3.7323934, -3.795537, -3.76550231421688, -3.81703, -3.83126, -3.8085, -3.71814, -3.7586646, -3.82059, -3.73321, -3.8288, -3.85603, -3.7116497, -3.79775, -3.75135, -3.7996, -3.75161, -3.72532, -3.7323934, -3.74072, -3.73335, -3.74072, -3.75275, -3.79483008384705, -3.82403, -3.73458, -3.73321, -3.82546, -3.770181, -3.728483, -3.7180369, -3.8021334864376, -3.77000578078649, -3.73855119999996, -3.855, -3.82898, -3.77367, -3.73453, -3.79802, -3.7974099, -3.83529, -3.84057, -3.73958, -3.80819644795653, -3.81963, -3.78833, -3.818527, -3.79006, -3.8092835, -3.8015042, -3.8257, -3.8349063, -3.81574, -3.76408, -3.7204288, -3.72731, -3.78859, -3.79408, -3.7454, -3.77127578643763, -3.7630715, -3.76873891356237, -3.80121, -3.8255195, -3.79985, -3.722955, -3.79143, -3.80664, -3.83637, -3.81159, -3.81489, -3.82895, -3.78839, -3.78406, -3.80313, -3.83005, -3.80875, -3.80728, -3.7896, -3.83748, -3.7824559, -3.78693, -3.7961005, -3.7987, -3.79333, -3.7544003, -3.75009, -3.80326, -3.78821, -3.8277845, -3.77152, -3.73091, -3.77261, -3.8258232, -3.7465719, -3.85603, -3.82931, -3.8293, -3.82437, -3.76186, -3.7730788126493, -3.82865, -3.75084400177002, -3.7759260276798, -3.7602, -3.76047, -3.764, -3.75278, -3.74072, -3.78119683423338, -3.72398, -3.77019188643763, -3.71803, -3.72839, -3.77019188643763, -3.71803, -3.72839, -3.74072, -3.82342198, -3.73321, -3.74655, -3.76988, -3.809874, -3.75275, -3.7546246, -3.73321, -3.724996, -3.724996, -3.80921, -3.83809, -3.78076959999998, -3.76772, -3.75089, -3.72626, -3.76772, -3.75089, -3.7211453, -3.82946, -3.8353401, -3.85598, -3.8281633365, -3.82531010000002, -3.80848, -3.80281, -3.7962, -3.79922, -3.80326778643763, -3.79886, -3.79215, -3.71781, -3.71781, -3.821837461, -3.83738, -3.7342, -3.75278, -3.76821, -3.81054, -3.81732, -3.8236, 0.0, 0.0, 0.0, 0.0, 0.0, -3.80216837862613, -3.8050723, -3.79437, -3.7909198, -3.75547, -3.79721, -3.76824421356237, -3.76824421356237, -3.85598, -3.76054, -3.83733, -3.79437, -3.78978, -3.779803, -3.8349888, -3.74658, -3.773, -3.72254, -3.8157, -3.83016, -3.7904124, -3.81198, -3.76264, -3.79544, -3.80998, -3.80489250000005, -3.71706, -3.75275, -3.73321, -3.78049993515015, -3.79980721356237, -3.78143, -3.74072, -3.8354148269737, -3.73321, -3.74072, -3.80028, -3.82059, -3.80279, -3.839799, -3.76824421356237, -3.7798, -3.83733, -3.83733, -3.76318, -3.8098617, -3.78892, -3.79869]\n"
     ]
    }
   ],
   "source": [
    "\n",
    "lat_list = [float(lat.replace(',', '.')) for lat in df_sb['latitude']]\n",
    "print(lat_list)\n",
    "lon_list = [float(lon.replace(',', '.')) for lon in df_sb['longitude']]\n",
    "print(lon_list)\n",
    "\n"
   ]
  },
  {
   "cell_type": "code",
   "execution_count": 67,
   "id": "f7931ec0",
   "metadata": {},
   "outputs": [
    {
     "data": {
      "application/vnd.jupyter.widget-view+json": {
       "model_id": "f9b66736ae3d4018b76acd49e8cdbc50",
       "version_major": 2,
       "version_minor": 0
      },
      "text/plain": [
       "Map(center=[60, -2.2], controls=(ZoomControl(options=['position', 'zoom_in_text', 'zoom_in_title', 'zoom_out_t…"
      ]
     },
     "execution_count": 67,
     "metadata": {},
     "output_type": "execute_result"
    }
   ],
   "source": [
    "## HERE: plot the coordinates of the estates\n",
    "# clean coordinates replace(',', '.')\n",
    "#df_sb['lat_list'] = df_sb['latitude'].replace(',', '.')\n",
    "\n",
    "## PUT HERE YOUR CODE:\n",
    "\n",
    "\n",
    "for i, (lat, long) in enumerate(zip(lat_list, lon_list)):\n",
    "    population = df_sb.iloc[i]['level5']\n",
    "    #color = color_dict.get(population, \"black\") \n",
    "    marker = Marker(location=(lat, long), icon=AwesomeIcon(name='house', marker_color='green'), draggable=False)\n",
    "    map.add_layer(marker)\n",
    "\n",
    "map.layout.height=\"550px\"\n",
    "\n",
    "map"
   ]
  },
  {
   "attachments": {},
   "cell_type": "markdown",
   "id": "b22874b7",
   "metadata": {},
   "source": [
    "#### What can you say about the price per square meter between the towns of Getafe and Alcorcón?"
   ]
  },
  {
   "cell_type": "code",
   "execution_count": 68,
   "id": "e0ef506b",
   "metadata": {},
   "outputs": [],
   "source": [
    "df_ga = df.query('level5 == \"Getafe\" or level5 == \"Alcorcón\"').copy()\n"
   ]
  },
  {
   "cell_type": "code",
   "execution_count": 69,
   "id": "77ea7660",
   "metadata": {},
   "outputs": [],
   "source": [
    "df_ga['price_sqr'] = df_ga['price'] / df_ga['surface']"
   ]
  },
  {
   "cell_type": "code",
   "execution_count": 70,
   "id": "b6d325f4",
   "metadata": {},
   "outputs": [
    {
     "data": {
      "image/png": "[encoded data removed]",
      "text/plain": [
       "<Figure size 640x480 with 1 Axes>"
      ]
     },
     "metadata": {},
     "output_type": "display_data"
    }
   ],
   "source": [
    "populations = [\"Getafe\", \"Alcorcón\"]\n",
    "fig, ax = plt.subplots()\n",
    "df_ga.groupby('level5')['price_sqr'].plot(kind='hist', ax=ax, bins=30, alpha=0.75)\n",
    "plt.grid(color='white', lw = 0.5, axis='x')\n",
    "ax.set_title('Comparison of Price per Square Meter for Getafe and Alcorcón\\n', loc='center', fontsize=14)\n",
    "ax.set_xlabel('\\nPrices per square meter', fontsize=12)\n",
    "ax.set_ylabel('Frequency\\n', fontsize=12)\n",
    "ax.legend(populations)\n",
    "plt.show()\n",
    "\n",
    "#Most prices in Getafe are in between 1500 and 2500. In Alcorcón there is a bigger difference between the prices per square meters as there are cheaper houses and more expensive one. In Getafe prices are more homogeneous."
   ]
  },
  {
   "attachments": {},
   "cell_type": "markdown",
   "id": "a4376b3f",
   "metadata": {},
   "source": [
    "#### Reload the data, is the average of \"Valdemorillo\" and \"Galapagar\" prices the same?"
   ]
  },
  {
   "cell_type": "code",
   "execution_count": 71,
   "id": "37dbaf65",
   "metadata": {},
   "outputs": [
    {
     "data": {
      "text/html": [
       "<div>\n",
       "<style scoped>\n",
       "    .dataframe tbody tr th:only-of-type {\n",
       "        vertical-align: middle;\n",
       "    }\n",
       "\n",
       "    .dataframe tbody tr th {\n",
       "        vertical-align: top;\n",
       "    }\n",
       "\n",
       "    .dataframe thead th {\n",
       "        text-align: right;\n",
       "    }\n",
       "</style>\n",
       "<table border=\"1\" class=\"dataframe\">\n",
       "  <thead>\n",
       "    <tr style=\"text-align: right;\">\n",
       "      <th></th>\n",
       "      <th>Unnamed: 0</th>\n",
       "      <th>id_realEstates</th>\n",
       "      <th>isNew</th>\n",
       "      <th>realEstate_name</th>\n",
       "      <th>phone_realEstate</th>\n",
       "      <th>url_inmueble</th>\n",
       "      <th>rooms</th>\n",
       "      <th>bathrooms</th>\n",
       "      <th>surface</th>\n",
       "      <th>price</th>\n",
       "      <th>...</th>\n",
       "      <th>level4Id</th>\n",
       "      <th>level5Id</th>\n",
       "      <th>level6Id</th>\n",
       "      <th>level7Id</th>\n",
       "      <th>level8Id</th>\n",
       "      <th>accuracy</th>\n",
       "      <th>latitude</th>\n",
       "      <th>longitude</th>\n",
       "      <th>zipCode</th>\n",
       "      <th>customZone</th>\n",
       "    </tr>\n",
       "  </thead>\n",
       "  <tbody>\n",
       "    <tr>\n",
       "      <th>15330</th>\n",
       "      <td>15331</td>\n",
       "      <td>153901377</td>\n",
       "      <td>False</td>\n",
       "      <td>infocasa consulting</td>\n",
       "      <td>911360461.0</td>\n",
       "      <td>https://www.fotocasa.es/es/comprar/vivienda/ma...</td>\n",
       "      <td>2.0</td>\n",
       "      <td>1.0</td>\n",
       "      <td>96.0</td>\n",
       "      <td>259470</td>\n",
       "      <td>...</td>\n",
       "      <td>0</td>\n",
       "      <td>0</td>\n",
       "      <td>0</td>\n",
       "      <td>0</td>\n",
       "      <td>0</td>\n",
       "      <td>0</td>\n",
       "      <td>40,45416</td>\n",
       "      <td>-3,70286</td>\n",
       "      <td>NaN</td>\n",
       "      <td>NaN</td>\n",
       "    </tr>\n",
       "    <tr>\n",
       "      <th>15331</th>\n",
       "      <td>15332</td>\n",
       "      <td>150394373</td>\n",
       "      <td>False</td>\n",
       "      <td>inmobiliaria pulpon</td>\n",
       "      <td>912788039.0</td>\n",
       "      <td>https://www.fotocasa.es/es/comprar/vivienda/ma...</td>\n",
       "      <td>3.0</td>\n",
       "      <td>1.0</td>\n",
       "      <td>150.0</td>\n",
       "      <td>165000</td>\n",
       "      <td>...</td>\n",
       "      <td>0</td>\n",
       "      <td>0</td>\n",
       "      <td>0</td>\n",
       "      <td>0</td>\n",
       "      <td>0</td>\n",
       "      <td>0</td>\n",
       "      <td>40,36652</td>\n",
       "      <td>-3,48951</td>\n",
       "      <td>NaN</td>\n",
       "      <td>NaN</td>\n",
       "    </tr>\n",
       "    <tr>\n",
       "      <th>15332</th>\n",
       "      <td>15333</td>\n",
       "      <td>153901397</td>\n",
       "      <td>False</td>\n",
       "      <td>tecnocasa torrelodones</td>\n",
       "      <td>912780348.0</td>\n",
       "      <td>https://www.fotocasa.es/es/comprar/vivienda/ma...</td>\n",
       "      <td>4.0</td>\n",
       "      <td>2.0</td>\n",
       "      <td>175.0</td>\n",
       "      <td>495000</td>\n",
       "      <td>...</td>\n",
       "      <td>0</td>\n",
       "      <td>0</td>\n",
       "      <td>0</td>\n",
       "      <td>0</td>\n",
       "      <td>0</td>\n",
       "      <td>0</td>\n",
       "      <td>40,57444</td>\n",
       "      <td>-3,92124</td>\n",
       "      <td>NaN</td>\n",
       "      <td>NaN</td>\n",
       "    </tr>\n",
       "    <tr>\n",
       "      <th>15333</th>\n",
       "      <td>15334</td>\n",
       "      <td>152607440</td>\n",
       "      <td>False</td>\n",
       "      <td>inmobiliaria pulpon</td>\n",
       "      <td>912788039.0</td>\n",
       "      <td>https://www.fotocasa.es/es/comprar/vivienda/ma...</td>\n",
       "      <td>3.0</td>\n",
       "      <td>2.0</td>\n",
       "      <td>101.0</td>\n",
       "      <td>195000</td>\n",
       "      <td>...</td>\n",
       "      <td>0</td>\n",
       "      <td>0</td>\n",
       "      <td>0</td>\n",
       "      <td>0</td>\n",
       "      <td>0</td>\n",
       "      <td>0</td>\n",
       "      <td>40,36967</td>\n",
       "      <td>-3,48105</td>\n",
       "      <td>NaN</td>\n",
       "      <td>NaN</td>\n",
       "    </tr>\n",
       "    <tr>\n",
       "      <th>15334</th>\n",
       "      <td>15335</td>\n",
       "      <td>153901356</td>\n",
       "      <td>False</td>\n",
       "      <td>infocasa consulting</td>\n",
       "      <td>911360461.0</td>\n",
       "      <td>https://www.fotocasa.es/es/comprar/vivienda/ma...</td>\n",
       "      <td>3.0</td>\n",
       "      <td>2.0</td>\n",
       "      <td>152.0</td>\n",
       "      <td>765000</td>\n",
       "      <td>...</td>\n",
       "      <td>0</td>\n",
       "      <td>0</td>\n",
       "      <td>0</td>\n",
       "      <td>0</td>\n",
       "      <td>0</td>\n",
       "      <td>0</td>\n",
       "      <td>40,45773</td>\n",
       "      <td>-3,69068</td>\n",
       "      <td>NaN</td>\n",
       "      <td>NaN</td>\n",
       "    </tr>\n",
       "  </tbody>\n",
       "</table>\n",
       "<p>5 rows × 37 columns</p>\n",
       "</div>"
      ],
      "text/plain": [
       "       Unnamed: 0  id_realEstates  isNew         realEstate_name  \\\n",
       "15330       15331       153901377  False     infocasa consulting   \n",
       "15331       15332       150394373  False     inmobiliaria pulpon   \n",
       "15332       15333       153901397  False  tecnocasa torrelodones   \n",
       "15333       15334       152607440  False     inmobiliaria pulpon   \n",
       "15334       15335       153901356  False     infocasa consulting   \n",
       "\n",
       "       phone_realEstate                                       url_inmueble  \\\n",
       "15330       911360461.0  https://www.fotocasa.es/es/comprar/vivienda/ma...   \n",
       "15331       912788039.0  https://www.fotocasa.es/es/comprar/vivienda/ma...   \n",
       "15332       912780348.0  https://www.fotocasa.es/es/comprar/vivienda/ma...   \n",
       "15333       912788039.0  https://www.fotocasa.es/es/comprar/vivienda/ma...   \n",
       "15334       911360461.0  https://www.fotocasa.es/es/comprar/vivienda/ma...   \n",
       "\n",
       "       rooms  bathrooms  surface   price  ... level4Id level5Id level6Id  \\\n",
       "15330    2.0        1.0     96.0  259470  ...        0        0        0   \n",
       "15331    3.0        1.0    150.0  165000  ...        0        0        0   \n",
       "15332    4.0        2.0    175.0  495000  ...        0        0        0   \n",
       "15333    3.0        2.0    101.0  195000  ...        0        0        0   \n",
       "15334    3.0        2.0    152.0  765000  ...        0        0        0   \n",
       "\n",
       "      level7Id level8Id accuracy  latitude longitude zipCode customZone  \n",
       "15330        0        0        0  40,45416  -3,70286     NaN        NaN  \n",
       "15331        0        0        0  40,36652  -3,48951     NaN        NaN  \n",
       "15332        0        0        0  40,57444  -3,92124     NaN        NaN  \n",
       "15333        0        0        0  40,36967  -3,48105     NaN        NaN  \n",
       "15334        0        0        0  40,45773  -3,69068     NaN        NaN  \n",
       "\n",
       "[5 rows x 37 columns]"
      ]
     },
     "execution_count": 71,
     "metadata": {},
     "output_type": "execute_result"
    }
   ],
   "source": [
    "df2 = pd.read_csv('assets/real_estate.csv', sep=';')\n",
    "df2.tail()"
   ]
  },
  {
   "cell_type": "code",
   "execution_count": 72,
   "id": "7e9a4fff",
   "metadata": {},
   "outputs": [
    {
     "data": {
      "text/plain": [
       "(15275, 37)"
      ]
     },
     "execution_count": 72,
     "metadata": {},
     "output_type": "execute_result"
    }
   ],
   "source": [
    "df2 = df2[df2['price'] != 0]\n",
    "df2.shape"
   ]
  },
  {
   "cell_type": "code",
   "execution_count": 73,
   "id": "21958cf2",
   "metadata": {},
   "outputs": [
    {
     "name": "stdout",
     "output_type": "stream",
     "text": [
      "Valdemorillo: 363860.29 \n",
      "Galapagar: 360063.2\n"
     ]
    }
   ],
   "source": [
    "mean_price = round((df2.groupby(['level5'])['price'].mean()), 2)\n",
    "print('Valdemorillo:', mean_price['Valdemorillo'], '\\nGalapagar:', mean_price['Galapagar'])\n",
    "#The average of prices for Valdemorillo and Galapagar are quite similar"
   ]
  },
  {
   "attachments": {},
   "cell_type": "markdown",
   "id": "b6af45ec",
   "metadata": {},
   "source": [
    "#### What happens if we do the same analysis for price/m2 (★★☆) "
   ]
  },
  {
   "cell_type": "code",
   "execution_count": 74,
   "id": "8231d73e",
   "metadata": {},
   "outputs": [
    {
     "data": {
      "text/html": [
       "<div>\n",
       "<style scoped>\n",
       "    .dataframe tbody tr th:only-of-type {\n",
       "        vertical-align: middle;\n",
       "    }\n",
       "\n",
       "    .dataframe tbody tr th {\n",
       "        vertical-align: top;\n",
       "    }\n",
       "\n",
       "    .dataframe thead th {\n",
       "        text-align: right;\n",
       "    }\n",
       "</style>\n",
       "<table border=\"1\" class=\"dataframe\">\n",
       "  <thead>\n",
       "    <tr style=\"text-align: right;\">\n",
       "      <th></th>\n",
       "      <th>Unnamed: 0</th>\n",
       "      <th>id_realEstates</th>\n",
       "      <th>isNew</th>\n",
       "      <th>realEstate_name</th>\n",
       "      <th>phone_realEstate</th>\n",
       "      <th>url_inmueble</th>\n",
       "      <th>rooms</th>\n",
       "      <th>bathrooms</th>\n",
       "      <th>surface</th>\n",
       "      <th>price</th>\n",
       "      <th>...</th>\n",
       "      <th>level5Id</th>\n",
       "      <th>level6Id</th>\n",
       "      <th>level7Id</th>\n",
       "      <th>level8Id</th>\n",
       "      <th>accuracy</th>\n",
       "      <th>latitude</th>\n",
       "      <th>longitude</th>\n",
       "      <th>zipCode</th>\n",
       "      <th>customZone</th>\n",
       "      <th>p_sqr</th>\n",
       "    </tr>\n",
       "  </thead>\n",
       "  <tbody>\n",
       "    <tr>\n",
       "      <th>0</th>\n",
       "      <td>1</td>\n",
       "      <td>153771986</td>\n",
       "      <td>False</td>\n",
       "      <td>ferrari 57 inmobiliaria</td>\n",
       "      <td>912177526.0</td>\n",
       "      <td>https://www.fotocasa.es/es/comprar/vivienda/ma...</td>\n",
       "      <td>3.0</td>\n",
       "      <td>2.0</td>\n",
       "      <td>103.0</td>\n",
       "      <td>195000</td>\n",
       "      <td>...</td>\n",
       "      <td>0</td>\n",
       "      <td>0</td>\n",
       "      <td>0</td>\n",
       "      <td>0</td>\n",
       "      <td>0</td>\n",
       "      <td>40,2948276786438</td>\n",
       "      <td>-3,44402412135624</td>\n",
       "      <td>NaN</td>\n",
       "      <td>NaN</td>\n",
       "      <td>1893.20</td>\n",
       "    </tr>\n",
       "    <tr>\n",
       "      <th>1</th>\n",
       "      <td>2</td>\n",
       "      <td>153867863</td>\n",
       "      <td>False</td>\n",
       "      <td>tecnocasa fuenlabrada ferrocarril</td>\n",
       "      <td>916358736.0</td>\n",
       "      <td>https://www.fotocasa.es/es/comprar/vivienda/ma...</td>\n",
       "      <td>3.0</td>\n",
       "      <td>1.0</td>\n",
       "      <td>NaN</td>\n",
       "      <td>89000</td>\n",
       "      <td>...</td>\n",
       "      <td>0</td>\n",
       "      <td>0</td>\n",
       "      <td>0</td>\n",
       "      <td>0</td>\n",
       "      <td>1</td>\n",
       "      <td>40,28674</td>\n",
       "      <td>-3,79351</td>\n",
       "      <td>NaN</td>\n",
       "      <td>NaN</td>\n",
       "      <td>NaN</td>\n",
       "    </tr>\n",
       "    <tr>\n",
       "      <th>2</th>\n",
       "      <td>3</td>\n",
       "      <td>153430440</td>\n",
       "      <td>False</td>\n",
       "      <td>look find boadilla</td>\n",
       "      <td>916350408.0</td>\n",
       "      <td>https://www.fotocasa.es/es/comprar/vivienda/ma...</td>\n",
       "      <td>2.0</td>\n",
       "      <td>2.0</td>\n",
       "      <td>99.0</td>\n",
       "      <td>390000</td>\n",
       "      <td>...</td>\n",
       "      <td>0</td>\n",
       "      <td>0</td>\n",
       "      <td>0</td>\n",
       "      <td>0</td>\n",
       "      <td>0</td>\n",
       "      <td>40,4115646786438</td>\n",
       "      <td>-3,90662252135624</td>\n",
       "      <td>NaN</td>\n",
       "      <td>NaN</td>\n",
       "      <td>3939.39</td>\n",
       "    </tr>\n",
       "    <tr>\n",
       "      <th>3</th>\n",
       "      <td>4</td>\n",
       "      <td>152776331</td>\n",
       "      <td>False</td>\n",
       "      <td>tecnocasa fuenlabrada ferrocarril</td>\n",
       "      <td>916358736.0</td>\n",
       "      <td>https://www.fotocasa.es/es/comprar/vivienda/ma...</td>\n",
       "      <td>3.0</td>\n",
       "      <td>1.0</td>\n",
       "      <td>86.0</td>\n",
       "      <td>89000</td>\n",
       "      <td>...</td>\n",
       "      <td>0</td>\n",
       "      <td>0</td>\n",
       "      <td>0</td>\n",
       "      <td>0</td>\n",
       "      <td>0</td>\n",
       "      <td>40,2853785786438</td>\n",
       "      <td>-3,79508142135624</td>\n",
       "      <td>NaN</td>\n",
       "      <td>NaN</td>\n",
       "      <td>1034.88</td>\n",
       "    </tr>\n",
       "    <tr>\n",
       "      <th>4</th>\n",
       "      <td>5</td>\n",
       "      <td>153180188</td>\n",
       "      <td>False</td>\n",
       "      <td>ferrari 57 inmobiliaria</td>\n",
       "      <td>912177526.0</td>\n",
       "      <td>https://www.fotocasa.es/es/comprar/vivienda/ma...</td>\n",
       "      <td>2.0</td>\n",
       "      <td>2.0</td>\n",
       "      <td>106.0</td>\n",
       "      <td>172000</td>\n",
       "      <td>...</td>\n",
       "      <td>0</td>\n",
       "      <td>0</td>\n",
       "      <td>0</td>\n",
       "      <td>0</td>\n",
       "      <td>0</td>\n",
       "      <td>40,2998774864376</td>\n",
       "      <td>-3,45226301356237</td>\n",
       "      <td>NaN</td>\n",
       "      <td>NaN</td>\n",
       "      <td>1622.64</td>\n",
       "    </tr>\n",
       "  </tbody>\n",
       "</table>\n",
       "<p>5 rows × 38 columns</p>\n",
       "</div>"
      ],
      "text/plain": [
       "   Unnamed: 0  id_realEstates  isNew                    realEstate_name  \\\n",
       "0           1       153771986  False            ferrari 57 inmobiliaria   \n",
       "1           2       153867863  False  tecnocasa fuenlabrada ferrocarril   \n",
       "2           3       153430440  False                 look find boadilla   \n",
       "3           4       152776331  False  tecnocasa fuenlabrada ferrocarril   \n",
       "4           5       153180188  False            ferrari 57 inmobiliaria   \n",
       "\n",
       "   phone_realEstate                                       url_inmueble  rooms  \\\n",
       "0       912177526.0  https://www.fotocasa.es/es/comprar/vivienda/ma...    3.0   \n",
       "1       916358736.0  https://www.fotocasa.es/es/comprar/vivienda/ma...    3.0   \n",
       "2       916350408.0  https://www.fotocasa.es/es/comprar/vivienda/ma...    2.0   \n",
       "3       916358736.0  https://www.fotocasa.es/es/comprar/vivienda/ma...    3.0   \n",
       "4       912177526.0  https://www.fotocasa.es/es/comprar/vivienda/ma...    2.0   \n",
       "\n",
       "   bathrooms  surface   price  ... level5Id level6Id level7Id level8Id  \\\n",
       "0        2.0    103.0  195000  ...        0        0        0        0   \n",
       "1        1.0      NaN   89000  ...        0        0        0        0   \n",
       "2        2.0     99.0  390000  ...        0        0        0        0   \n",
       "3        1.0     86.0   89000  ...        0        0        0        0   \n",
       "4        2.0    106.0  172000  ...        0        0        0        0   \n",
       "\n",
       "  accuracy          latitude          longitude zipCode customZone    p_sqr  \n",
       "0        0  40,2948276786438  -3,44402412135624     NaN        NaN  1893.20  \n",
       "1        1          40,28674           -3,79351     NaN        NaN      NaN  \n",
       "2        0  40,4115646786438  -3,90662252135624     NaN        NaN  3939.39  \n",
       "3        0  40,2853785786438  -3,79508142135624     NaN        NaN  1034.88  \n",
       "4        0  40,2998774864376  -3,45226301356237     NaN        NaN  1622.64  \n",
       "\n",
       "[5 rows x 38 columns]"
      ]
     },
     "execution_count": 74,
     "metadata": {},
     "output_type": "execute_result"
    }
   ],
   "source": [
    "df2['p_sqr'] = round((df2['price'] / df2['surface']), 2)\n",
    "df2.head()"
   ]
  },
  {
   "cell_type": "code",
   "execution_count": 75,
   "id": "585342a6",
   "metadata": {},
   "outputs": [
    {
     "name": "stdout",
     "output_type": "stream",
     "text": [
      "Valdemorillo: 1317.95 \n",
      "Galapagar: 1606.32\n"
     ]
    }
   ],
   "source": [
    "mean_price_sq = round((df2.groupby(['level5'])['p_sqr'].mean()), 2)\n",
    "print('Valdemorillo:', mean_price_sq['Valdemorillo'], '\\nGalapagar:', mean_price_sq['Galapagar'])\n",
    "# There is an approximately 21% difference."
   ]
  },
  {
   "attachments": {},
   "cell_type": "markdown",
   "id": "2d40e202",
   "metadata": {},
   "source": [
    "#### Could you say there is a relation between surface and price? (★★☆) \n",
    "Hint: make a scatter plot."
   ]
  },
  {
   "cell_type": "code",
   "execution_count": 76,
   "id": "405462e1",
   "metadata": {},
   "outputs": [
    {
     "data": {
      "image/png": "[encoded data removed]",
      "text/plain": [
       "<Figure size 640x480 with 1 Axes>"
      ]
     },
     "metadata": {},
     "output_type": "display_data"
    }
   ],
   "source": [
    "df_vg = df.query('level5 == \"Valdemorillo\" or level5 == \"Galapagar\"')\n",
    "\n",
    "fig, ax = plt.subplots()\n",
    "\n",
    "ax.scatter(df_vg.price, df_vg.surface);\n",
    "\n",
    "#There seems to be a relation between surface and price, meaning bigger spaces tend to cost more."
   ]
  },
  {
   "attachments": {},
   "cell_type": "markdown",
   "id": "3275db77",
   "metadata": {},
   "source": [
    "#### Make the same plot for 4 different populations (level5) and rearrange them on the same graph? (★★☆) \n",
    "Hint: make a scatter plot of each population using subplots."
   ]
  },
  {
   "cell_type": "code",
   "execution_count": 77,
   "id": "e08292ff",
   "metadata": {},
   "outputs": [
    {
     "data": {
      "image/png": "[encoded data removed]",
      "text/plain": [
       "<Figure size 1000x600 with 4 Axes>"
      ]
     },
     "metadata": {},
     "output_type": "display_data"
    }
   ],
   "source": [
    "fig, ax = plt.subplots(2, 2, figsize=(10,6), constrained_layout = True)\n",
    "\n",
    "alcorcon = df_sb[(df_sb['level5'] == \"Alcorcón\")]\n",
    "fuenlabrada = df_sb[(df_sb['level5'] == \"Fuenlabrada\")]\n",
    "getafe = df_sb[(df_sb['level5'] == \"Getafe\")]\n",
    "leganes = df_sb[(df_sb['level5'] == \"Leganés\")]\n",
    "\n",
    "\n",
    "ax[0,0].scatter(alcorcon['price_normalised'], alcorcon['surface'], color='darkred')\n",
    "ax[0,1].scatter(fuenlabrada['price_normalised'], fuenlabrada['surface'],color='darkcyan')\n",
    "ax[1,0].scatter(getafe['price_normalised'], getafe['surface'],color='slategray')\n",
    "ax[1,1].scatter(leganes['price_normalised'], leganes['surface'],color='darkblue')\n",
    "\n",
    "ax[0,0].set_title('Alcorcón')\n",
    "ax[0,1].set_title('Fuenlabrada')\n",
    "ax[1,0].set_title('\\nGetafe')\n",
    "ax[1,1].set_title('\\nLeganés')\n",
    "\n",
    "ax[0,0].set_xlabel('Price Normalised')\n",
    "ax[0,1].set_xlabel('Price Normalised')\n",
    "ax[1,0].set_xlabel('Price Normalised')\n",
    "ax[1,1].set_xlabel('Price Normalised')\n",
    "\n",
    "ax[0,0].set_ylabel('Surface')\n",
    "ax[0,1].set_ylabel('\\nSurface')\n",
    "ax[1,0].set_ylabel('Surface')\n",
    "ax[1,1].set_ylabel('\\nSurface')\n",
    "\n",
    "fig.suptitle('Scatter of relation between price normalised and surface for each population (level5)', fontsize=18);"
   ]
  },
  {
   "cell_type": "code",
   "execution_count": 78,
   "metadata": {},
   "outputs": [
    {
     "data": {
      "image/png": "[encoded data removed]",
      "text/plain": [
       "<Figure size 800x400 with 1 Axes>"
      ]
     },
     "metadata": {},
     "output_type": "display_data"
    }
   ],
   "source": [
    "fig, ax = plt.subplots(figsize=(8,4))\n",
    "\n",
    "ax.scatter(alcorcon['price_normalised'], alcorcon['surface'], label='Alcorcón', color='darkred', alpha=0.65)\n",
    "ax.scatter(fuenlabrada['price_normalised'], fuenlabrada['surface'], label='Fuenlabrada', color='darkcyan', alpha=0.65)\n",
    "ax.scatter(getafe['price_normalised'], getafe['surface'], label='Getafe', color='slategray', alpha=0.65)\n",
    "ax.scatter(leganes['price_normalised'], leganes['surface'], label='Leganés', color='darkblue', alpha=0.65)\n",
    "\n",
    "ax.set_xlabel('Price Normalised', fontsize=14)\n",
    "ax.set_ylabel('Surface', fontsize=14)\n",
    "ax.legend(loc='lower right', fontsize='large')\n",
    "\n",
    "fig.suptitle('Scatter plot of relation between normalised price and surface for all populations in (level5)', fontsize=18);"
   ]
  },
  {
   "attachments": {},
   "cell_type": "markdown",
   "id": "522c6bd9",
   "metadata": {},
   "source": [
    "#### How many  real estate agencies the dataset contains? (★★☆) "
   ]
  },
  {
   "cell_type": "code",
   "execution_count": 79,
   "id": "014ec6c8",
   "metadata": {},
   "outputs": [
    {
     "name": "stdout",
     "output_type": "stream",
     "text": [
      "The dataset contains 1816 real estate agencies.\n"
     ]
    }
   ],
   "source": [
    "real_estate_agencies = df.realEstate_name.nunique()\n",
    "print(f\"The dataset contains {real_estate_agencies} real estate agencies.\")"
   ]
  },
  {
   "attachments": {},
   "cell_type": "markdown",
   "id": "899a101e",
   "metadata": {},
   "source": [
    "#### What is the population (level 5) that contains the most houses? (★★☆) "
   ]
  },
  {
   "cell_type": "code",
   "execution_count": 80,
   "id": "9e8b34ba",
   "metadata": {},
   "outputs": [
    {
     "data": {
      "text/plain": [
       "level5\n",
       " Madrid Capital               6632\n",
       "Alcalá de Henares              525\n",
       "Las Rozas de Madrid            383\n",
       "Móstoles                       322\n",
       "San Sebastián de los Reyes     278\n",
       "                              ... \n",
       "Navarredonda                     1\n",
       "Pinilla del Valle                1\n",
       "Piñuécar-gandullas               1\n",
       "Rascafría                        1\n",
       "Montejo de la Sierra             1\n",
       "Name: count, Length: 168, dtype: int64"
      ]
     },
     "execution_count": 80,
     "metadata": {},
     "output_type": "execute_result"
    }
   ],
   "source": [
    "level5_most_houses = df.groupby(['level5'])['level5'].value_counts().sort_values(ascending=False)\n",
    "level5_most_houses"
   ]
  },
  {
   "cell_type": "code",
   "execution_count": 81,
   "id": "75b64319",
   "metadata": {},
   "outputs": [],
   "source": [
    "level5_most_houses_index = level5_most_houses.idxmax()"
   ]
  },
  {
   "cell_type": "code",
   "execution_count": 82,
   "id": "8dc5022b",
   "metadata": {},
   "outputs": [
    {
     "name": "stdout",
     "output_type": "stream",
     "text": [
      "The population (level5) that contains the most houses is  Madrid Capital.\n"
     ]
    }
   ],
   "source": [
    "print(f\"The population (level5) that contains the most houses is {level5_most_houses_index}.\")"
   ]
  }
 ],
 "metadata": {
  "kernelspec": {
   "display_name": "Python 3",
   "language": "python",
   "name": "python3"
  },
  "language_info": {
   "codemirror_mode": {
    "name": "ipython",
    "version": 3
   },
   "file_extension": ".py",
   "mimetype": "text/x-python",
   "name": "python",
   "nbconvert_exporter": "python",
   "pygments_lexer": "ipython3",
   "version": "3.11.4"
  }
 },
 "nbformat": 4,
 "nbformat_minor": 5
}
